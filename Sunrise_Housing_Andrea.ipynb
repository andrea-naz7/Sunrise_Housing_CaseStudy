{
 "cells": [
  {
   "cell_type": "markdown",
   "id": "494c5745",
   "metadata": {},
   "source": [
    "# Sunrise Housing Case study"
   ]
  },
  {
   "cell_type": "markdown",
   "id": "a2d23e15",
   "metadata": {},
   "source": [
    "## Objective"
   ]
  },
  {
   "cell_type": "markdown",
   "id": "3cbf31a3",
   "metadata": {},
   "source": [
    "Identify prospective properties to invest in based on the prediction of the actual value of these properties."
   ]
  },
  {
   "cell_type": "code",
   "execution_count": 1,
   "id": "a29aeaf0",
   "metadata": {},
   "outputs": [],
   "source": [
    "import numpy as np\n",
    "import pandas as pd\n",
    "import matplotlib.pyplot as plt\n",
    "import seaborn as sns\n",
    "\n",
    "import warnings\n",
    "warnings.filterwarnings('ignore')\n",
    "\n",
    "%matplotlib inline\n",
    "plt.style.use('ggplot')"
   ]
  },
  {
   "cell_type": "code",
   "execution_count": 2,
   "id": "1c19073f",
   "metadata": {},
   "outputs": [
    {
     "data": {
      "text/html": [
       "<div>\n",
       "<style scoped>\n",
       "    .dataframe tbody tr th:only-of-type {\n",
       "        vertical-align: middle;\n",
       "    }\n",
       "\n",
       "    .dataframe tbody tr th {\n",
       "        vertical-align: top;\n",
       "    }\n",
       "\n",
       "    .dataframe thead th {\n",
       "        text-align: right;\n",
       "    }\n",
       "</style>\n",
       "<table border=\"1\" class=\"dataframe\">\n",
       "  <thead>\n",
       "    <tr style=\"text-align: right;\">\n",
       "      <th></th>\n",
       "      <th>Id</th>\n",
       "      <th>MSSubClass</th>\n",
       "      <th>MSZoning</th>\n",
       "      <th>LotFrontage</th>\n",
       "      <th>LotArea</th>\n",
       "      <th>Street</th>\n",
       "      <th>Alley</th>\n",
       "      <th>LotShape</th>\n",
       "      <th>LandContour</th>\n",
       "      <th>Utilities</th>\n",
       "      <th>...</th>\n",
       "      <th>PoolArea</th>\n",
       "      <th>PoolQC</th>\n",
       "      <th>Fence</th>\n",
       "      <th>MiscFeature</th>\n",
       "      <th>MiscVal</th>\n",
       "      <th>MoSold</th>\n",
       "      <th>YrSold</th>\n",
       "      <th>SaleType</th>\n",
       "      <th>SaleCondition</th>\n",
       "      <th>SalePrice</th>\n",
       "    </tr>\n",
       "  </thead>\n",
       "  <tbody>\n",
       "    <tr>\n",
       "      <th>0</th>\n",
       "      <td>1</td>\n",
       "      <td>60</td>\n",
       "      <td>RL</td>\n",
       "      <td>65.0</td>\n",
       "      <td>8450</td>\n",
       "      <td>Pave</td>\n",
       "      <td>NaN</td>\n",
       "      <td>Reg</td>\n",
       "      <td>Lvl</td>\n",
       "      <td>AllPub</td>\n",
       "      <td>...</td>\n",
       "      <td>0</td>\n",
       "      <td>NaN</td>\n",
       "      <td>NaN</td>\n",
       "      <td>NaN</td>\n",
       "      <td>0</td>\n",
       "      <td>2</td>\n",
       "      <td>2008</td>\n",
       "      <td>WD</td>\n",
       "      <td>Normal</td>\n",
       "      <td>208500</td>\n",
       "    </tr>\n",
       "    <tr>\n",
       "      <th>1</th>\n",
       "      <td>2</td>\n",
       "      <td>20</td>\n",
       "      <td>RL</td>\n",
       "      <td>80.0</td>\n",
       "      <td>9600</td>\n",
       "      <td>Pave</td>\n",
       "      <td>NaN</td>\n",
       "      <td>Reg</td>\n",
       "      <td>Lvl</td>\n",
       "      <td>AllPub</td>\n",
       "      <td>...</td>\n",
       "      <td>0</td>\n",
       "      <td>NaN</td>\n",
       "      <td>NaN</td>\n",
       "      <td>NaN</td>\n",
       "      <td>0</td>\n",
       "      <td>5</td>\n",
       "      <td>2007</td>\n",
       "      <td>WD</td>\n",
       "      <td>Normal</td>\n",
       "      <td>181500</td>\n",
       "    </tr>\n",
       "    <tr>\n",
       "      <th>2</th>\n",
       "      <td>3</td>\n",
       "      <td>60</td>\n",
       "      <td>RL</td>\n",
       "      <td>68.0</td>\n",
       "      <td>11250</td>\n",
       "      <td>Pave</td>\n",
       "      <td>NaN</td>\n",
       "      <td>IR1</td>\n",
       "      <td>Lvl</td>\n",
       "      <td>AllPub</td>\n",
       "      <td>...</td>\n",
       "      <td>0</td>\n",
       "      <td>NaN</td>\n",
       "      <td>NaN</td>\n",
       "      <td>NaN</td>\n",
       "      <td>0</td>\n",
       "      <td>9</td>\n",
       "      <td>2008</td>\n",
       "      <td>WD</td>\n",
       "      <td>Normal</td>\n",
       "      <td>223500</td>\n",
       "    </tr>\n",
       "    <tr>\n",
       "      <th>3</th>\n",
       "      <td>4</td>\n",
       "      <td>70</td>\n",
       "      <td>RL</td>\n",
       "      <td>60.0</td>\n",
       "      <td>9550</td>\n",
       "      <td>Pave</td>\n",
       "      <td>NaN</td>\n",
       "      <td>IR1</td>\n",
       "      <td>Lvl</td>\n",
       "      <td>AllPub</td>\n",
       "      <td>...</td>\n",
       "      <td>0</td>\n",
       "      <td>NaN</td>\n",
       "      <td>NaN</td>\n",
       "      <td>NaN</td>\n",
       "      <td>0</td>\n",
       "      <td>2</td>\n",
       "      <td>2006</td>\n",
       "      <td>WD</td>\n",
       "      <td>Abnorml</td>\n",
       "      <td>140000</td>\n",
       "    </tr>\n",
       "    <tr>\n",
       "      <th>4</th>\n",
       "      <td>5</td>\n",
       "      <td>60</td>\n",
       "      <td>RL</td>\n",
       "      <td>84.0</td>\n",
       "      <td>14260</td>\n",
       "      <td>Pave</td>\n",
       "      <td>NaN</td>\n",
       "      <td>IR1</td>\n",
       "      <td>Lvl</td>\n",
       "      <td>AllPub</td>\n",
       "      <td>...</td>\n",
       "      <td>0</td>\n",
       "      <td>NaN</td>\n",
       "      <td>NaN</td>\n",
       "      <td>NaN</td>\n",
       "      <td>0</td>\n",
       "      <td>12</td>\n",
       "      <td>2008</td>\n",
       "      <td>WD</td>\n",
       "      <td>Normal</td>\n",
       "      <td>250000</td>\n",
       "    </tr>\n",
       "  </tbody>\n",
       "</table>\n",
       "<p>5 rows × 81 columns</p>\n",
       "</div>"
      ],
      "text/plain": [
       "   Id  MSSubClass MSZoning  LotFrontage  LotArea Street Alley LotShape  \\\n",
       "0   1          60       RL         65.0     8450   Pave   NaN      Reg   \n",
       "1   2          20       RL         80.0     9600   Pave   NaN      Reg   \n",
       "2   3          60       RL         68.0    11250   Pave   NaN      IR1   \n",
       "3   4          70       RL         60.0     9550   Pave   NaN      IR1   \n",
       "4   5          60       RL         84.0    14260   Pave   NaN      IR1   \n",
       "\n",
       "  LandContour Utilities  ... PoolArea PoolQC Fence MiscFeature MiscVal MoSold  \\\n",
       "0         Lvl    AllPub  ...        0    NaN   NaN         NaN       0      2   \n",
       "1         Lvl    AllPub  ...        0    NaN   NaN         NaN       0      5   \n",
       "2         Lvl    AllPub  ...        0    NaN   NaN         NaN       0      9   \n",
       "3         Lvl    AllPub  ...        0    NaN   NaN         NaN       0      2   \n",
       "4         Lvl    AllPub  ...        0    NaN   NaN         NaN       0     12   \n",
       "\n",
       "  YrSold  SaleType  SaleCondition  SalePrice  \n",
       "0   2008        WD         Normal     208500  \n",
       "1   2007        WD         Normal     181500  \n",
       "2   2008        WD         Normal     223500  \n",
       "3   2006        WD        Abnorml     140000  \n",
       "4   2008        WD         Normal     250000  \n",
       "\n",
       "[5 rows x 81 columns]"
      ]
     },
     "execution_count": 2,
     "metadata": {},
     "output_type": "execute_result"
    }
   ],
   "source": [
    "# load the dataset\n",
    "inp0 = pd.read_csv('train.csv', header=0)\n",
    "inp0.head()"
   ]
  },
  {
   "cell_type": "markdown",
   "id": "1dbb21b9",
   "metadata": {},
   "source": [
    "### I - Data understanding"
   ]
  },
  {
   "cell_type": "markdown",
   "id": "b088d4c2",
   "metadata": {},
   "source": [
    "**1. Number of rows, columns and column names**"
   ]
  },
  {
   "cell_type": "code",
   "execution_count": 3,
   "id": "72fd2c56",
   "metadata": {},
   "outputs": [
    {
     "data": {
      "text/plain": [
       "(1460, 81)"
      ]
     },
     "execution_count": 3,
     "metadata": {},
     "output_type": "execute_result"
    }
   ],
   "source": [
    "inp0.shape"
   ]
  },
  {
   "cell_type": "code",
   "execution_count": 4,
   "id": "ae3d9fa5",
   "metadata": {},
   "outputs": [
    {
     "name": "stdout",
     "output_type": "stream",
     "text": [
      "['Id', 'MSSubClass', 'MSZoning', 'LotFrontage', 'LotArea', 'Street', 'Alley', 'LotShape', 'LandContour', 'Utilities', 'LotConfig', 'LandSlope', 'Neighborhood', 'Condition1', 'Condition2', 'BldgType', 'HouseStyle', 'OverallQual', 'OverallCond', 'YearBuilt', 'YearRemodAdd', 'RoofStyle', 'RoofMatl', 'Exterior1st', 'Exterior2nd', 'MasVnrType', 'MasVnrArea', 'ExterQual', 'ExterCond', 'Foundation', 'BsmtQual', 'BsmtCond', 'BsmtExposure', 'BsmtFinType1', 'BsmtFinSF1', 'BsmtFinType2', 'BsmtFinSF2', 'BsmtUnfSF', 'TotalBsmtSF', 'Heating', 'HeatingQC', 'CentralAir', 'Electrical', '1stFlrSF', '2ndFlrSF', 'LowQualFinSF', 'GrLivArea', 'BsmtFullBath', 'BsmtHalfBath', 'FullBath', 'HalfBath', 'BedroomAbvGr', 'KitchenAbvGr', 'KitchenQual', 'TotRmsAbvGrd', 'Functional', 'Fireplaces', 'FireplaceQu', 'GarageType', 'GarageYrBlt', 'GarageFinish', 'GarageCars', 'GarageArea', 'GarageQual', 'GarageCond', 'PavedDrive', 'WoodDeckSF', 'OpenPorchSF', 'EnclosedPorch', '3SsnPorch', 'ScreenPorch', 'PoolArea', 'PoolQC', 'Fence', 'MiscFeature', 'MiscVal', 'MoSold', 'YrSold', 'SaleType', 'SaleCondition', 'SalePrice']\n"
     ]
    }
   ],
   "source": [
    "print(list(inp0.columns))"
   ]
  },
  {
   "cell_type": "markdown",
   "id": "fafd5818",
   "metadata": {},
   "source": [
    "**Observation**<br>\n",
    "1. Number of rows = 1460. Number of columns = 81.<br>\n",
    "2. Large number of columns implies that many will need to be dropped or they can be used to derive new metrics."
   ]
  },
  {
   "cell_type": "markdown",
   "id": "78ea8efd",
   "metadata": {},
   "source": [
    "**2. Drop columns based on definition in data dictionary**"
   ]
  },
  {
   "cell_type": "code",
   "execution_count": 5,
   "id": "39b5c348",
   "metadata": {},
   "outputs": [],
   "source": [
    "#columns contain irrelevant information based on repetition, uniqueness, data dictionary description\n",
    "col_drop = ['Id','Condition1','Condition2','BsmtFinType1', 'BsmtFinSF1', 'BsmtFinType2', 'BsmtFinSF2','BsmtUnfSF','MiscVal',\n",
    "            'GarageYrBlt']"
   ]
  },
  {
   "cell_type": "markdown",
   "id": "00214bae",
   "metadata": {},
   "source": [
    "**3. Presence of NaN or Null**"
   ]
  },
  {
   "cell_type": "code",
   "execution_count": 6,
   "id": "3b750038",
   "metadata": {},
   "outputs": [
    {
     "name": "stdout",
     "output_type": "stream",
     "text": [
      "NaN :  [0, 0, 0, 259, 0, 0, 1369, 0, 0, 0, 0, 0, 0, 0, 0, 0, 0, 0, 0, 0, 0, 0, 0, 0, 0, 8, 8, 0, 0, 0, 37, 37, 38, 37, 0, 38, 0, 0, 0, 0, 0, 0, 1, 0, 0, 0, 0, 0, 0, 0, 0, 0, 0, 0, 0, 0, 0, 690, 81, 81, 81, 0, 0, 81, 81, 0, 0, 0, 0, 0, 0, 0, 1453, 1179, 1406, 0, 0, 0, 0, 0, 0]\n",
      "Null:  [0, 0, 0, 259, 0, 0, 1369, 0, 0, 0, 0, 0, 0, 0, 0, 0, 0, 0, 0, 0, 0, 0, 0, 0, 0, 8, 8, 0, 0, 0, 37, 37, 38, 37, 0, 38, 0, 0, 0, 0, 0, 0, 1, 0, 0, 0, 0, 0, 0, 0, 0, 0, 0, 0, 0, 0, 0, 690, 81, 81, 81, 0, 0, 81, 81, 0, 0, 0, 0, 0, 0, 0, 1453, 1179, 1406, 0, 0, 0, 0, 0, 0]\n"
     ]
    }
   ],
   "source": [
    "#presence of NaN values & Null values\n",
    "print('NaN : ' , list( [inp0[i].isna().sum() for i in inp0.columns]))\n",
    "print('Null: ', list( [inp0[i].isnull().sum() for i in inp0.columns]))"
   ]
  },
  {
   "cell_type": "markdown",
   "id": "0bc56bdc",
   "metadata": {},
   "source": [
    "**Observation**<br>\n",
    "The number of NaN and Null values are same for all the columns in the dataset. <br>\n",
    "**Action**<br>\n",
    "Find columns and the percentage of the NaN values which are non-zero to determine further action."
   ]
  },
  {
   "cell_type": "code",
   "execution_count": 7,
   "id": "a86156a4",
   "metadata": {
    "scrolled": true
   },
   "outputs": [
    {
     "name": "stdout",
     "output_type": "stream",
     "text": [
      "{'PoolQC': 99.52, 'MiscFeature': 96.3, 'Alley': 93.77, 'Fence': 80.75, 'FireplaceQu': 47.26, 'LotFrontage': 17.74, 'GarageType': 5.55, 'GarageYrBlt': 5.55, 'GarageFinish': 5.55, 'GarageQual': 5.55, 'GarageCond': 5.55, 'BsmtExposure': 2.6, 'BsmtFinType2': 2.6, 'BsmtQual': 2.53, 'BsmtCond': 2.53, 'BsmtFinType1': 2.53, 'MasVnrType': 0.55, 'MasVnrArea': 0.55, 'Electrical': 0.07}\n"
     ]
    }
   ],
   "source": [
    "#many NaN & Null values present; find the columns names for more information and store in a dictionary with percentages\n",
    "inp0_dict0 = {str(i) : round(((inp0[i].isna().sum()/inp0.shape[0])* 100),2) for i in inp0.columns if inp0[i].isna().sum()>0 }\n",
    "\n",
    "#sort the dictionary with highest percentages first and print; returns a tuple\n",
    "inp0_dict1 = sorted( inp0_dict0.items() , key = lambda x : x[1], reverse=True)\n",
    "\n",
    "#convert tuple to dict\n",
    "inp0_dict0 = { }\n",
    "inp0_dict0 = { key:value for key,value in inp0_dict1 }\n",
    "\n",
    "#print columns with NaN values\n",
    "print(inp0_dict0)"
   ]
  },
  {
   "cell_type": "markdown",
   "id": "6f960d2d",
   "metadata": {},
   "source": [
    "**Observation**<br>\n",
    "Drop the columns with very high percentage of NaN values ie above 30%. These columns have NA values meaning None for categorical variables implying the absence of the said feature which is very high. For remaining columns, find the common number of rows satisfying them and drop them if required else, impute these columns."
   ]
  },
  {
   "cell_type": "code",
   "execution_count": 8,
   "id": "1f65e616",
   "metadata": {},
   "outputs": [],
   "source": [
    "#dropping columns with missing values above 30%\n",
    "col_drop.extend([key for key,value in inp0_dict0.items() if value >= 30])\n",
    "inp0.drop(col_drop, axis=1, inplace=True)"
   ]
  },
  {
   "cell_type": "markdown",
   "id": "35bad5e8",
   "metadata": {},
   "source": [
    "**4. Determine columns with high number of zeros or categorical features with values highly favouring one value and add them to drop list**<br>\n",
    "    Since number of rows are less, none will be removed and the missing values will be imputed."
   ]
  },
  {
   "cell_type": "code",
   "execution_count": 9,
   "id": "48da65dc",
   "metadata": {},
   "outputs": [],
   "source": [
    "#find all columns with high number of zeroes(30% of zeros ok in each column) and drop them\n",
    "inp0_0col = [i for i in inp0.columns if (inp0[i] == 0).sum()>(0.3*(inp0.shape[0]))]\n",
    "col_drop=[]\n",
    "col_drop.extend(inp0_0col)\n",
    "\n",
    "#find categorical features favouring highly only 1 value; highest count is more than 85% of the total rows; no variance\n",
    "col_drop.extend(\n",
    "    [i for i in inp0.select_dtypes(include='object').columns if inp0[i].value_counts().max() > (0.8*(inp0.shape[0]))])\n",
    "\n",
    "inp0.drop(col_drop, axis=1, inplace=True)"
   ]
  },
  {
   "cell_type": "code",
   "execution_count": 10,
   "id": "12a0d1bc",
   "metadata": {},
   "outputs": [
    {
     "name": "stdout",
     "output_type": "stream",
     "text": [
      "<class 'pandas.core.frame.DataFrame'>\n",
      "RangeIndex: 1460 entries, 0 to 1459\n",
      "Data columns (total 36 columns):\n",
      " #   Column        Non-Null Count  Dtype  \n",
      "---  ------        --------------  -----  \n",
      " 0   MSSubClass    1460 non-null   int64  \n",
      " 1   MSZoning      1460 non-null   object \n",
      " 2   LotFrontage   1201 non-null   float64\n",
      " 3   LotArea       1460 non-null   int64  \n",
      " 4   LotShape      1460 non-null   object \n",
      " 5   LotConfig     1460 non-null   object \n",
      " 6   Neighborhood  1460 non-null   object \n",
      " 7   HouseStyle    1460 non-null   object \n",
      " 8   OverallQual   1460 non-null   int64  \n",
      " 9   OverallCond   1460 non-null   int64  \n",
      " 10  YearBuilt     1460 non-null   int64  \n",
      " 11  YearRemodAdd  1460 non-null   int64  \n",
      " 12  RoofStyle     1460 non-null   object \n",
      " 13  Exterior1st   1460 non-null   object \n",
      " 14  Exterior2nd   1460 non-null   object \n",
      " 15  MasVnrType    1452 non-null   object \n",
      " 16  ExterQual     1460 non-null   object \n",
      " 17  Foundation    1460 non-null   object \n",
      " 18  BsmtQual      1423 non-null   object \n",
      " 19  BsmtExposure  1422 non-null   object \n",
      " 20  TotalBsmtSF   1460 non-null   int64  \n",
      " 21  HeatingQC     1460 non-null   object \n",
      " 22  1stFlrSF      1460 non-null   int64  \n",
      " 23  GrLivArea     1460 non-null   int64  \n",
      " 24  FullBath      1460 non-null   int64  \n",
      " 25  BedroomAbvGr  1460 non-null   int64  \n",
      " 26  KitchenAbvGr  1460 non-null   int64  \n",
      " 27  KitchenQual   1460 non-null   object \n",
      " 28  TotRmsAbvGrd  1460 non-null   int64  \n",
      " 29  GarageType    1379 non-null   object \n",
      " 30  GarageFinish  1379 non-null   object \n",
      " 31  GarageCars    1460 non-null   int64  \n",
      " 32  GarageArea    1460 non-null   int64  \n",
      " 33  MoSold        1460 non-null   int64  \n",
      " 34  YrSold        1460 non-null   int64  \n",
      " 35  SalePrice     1460 non-null   int64  \n",
      "dtypes: float64(1), int64(18), object(17)\n",
      "memory usage: 410.8+ KB\n"
     ]
    }
   ],
   "source": [
    "inp0.info()"
   ]
  },
  {
   "cell_type": "markdown",
   "id": "07b2920c",
   "metadata": {},
   "source": [
    "### II - Data cleaning & manipulation"
   ]
  },
  {
   "cell_type": "code",
   "execution_count": 11,
   "id": "d9c1f103",
   "metadata": {},
   "outputs": [],
   "source": [
    "# copy inital dataset\n",
    "inp1 = inp0.copy()"
   ]
  },
  {
   "cell_type": "markdown",
   "id": "7b79641f",
   "metadata": {},
   "source": [
    "**1. Impute missing values for categorical & continous features**<br>\n",
    "**1.1 Categorical features**"
   ]
  },
  {
   "cell_type": "code",
   "execution_count": 12,
   "id": "7fa2fa0e",
   "metadata": {},
   "outputs": [
    {
     "name": "stdout",
     "output_type": "stream",
     "text": [
      "[]\n"
     ]
    }
   ],
   "source": [
    "#impute categorial features with mode\n",
    "\n",
    "#find all the categorial features with missing values\n",
    "cat_impute = [ str(i) for i in inp1.select_dtypes(include='object') if (inp1[str(i)].isna().sum()>0) ]\n",
    "\n",
    "#impute the missing values with mode\n",
    "for i in cat_impute:    \n",
    "    inp1[str(i)] = inp1[str(i)].fillna(str(inp1[str(i)].mode()[0]))    \n",
    "\n",
    "#confirm that no categorical feature has any missing value\n",
    "print([ str(i) for i in inp1.select_dtypes(include='object') if (inp1[str(i)].isna().sum()>0) ])"
   ]
  },
  {
   "cell_type": "markdown",
   "id": "58894fbe",
   "metadata": {},
   "source": [
    "**1.2 Continuous features**"
   ]
  },
  {
   "cell_type": "code",
   "execution_count": 13,
   "id": "dc4f1fee",
   "metadata": {},
   "outputs": [
    {
     "name": "stdout",
     "output_type": "stream",
     "text": [
      "['LotFrontage']\n"
     ]
    }
   ],
   "source": [
    "#impute continuous features with mean\n",
    "\n",
    "#find all the continuous features with missing values\n",
    "print([str(i) for i in inp1.select_dtypes(include=['int64','float64']) if(inp1[str(i)].isna().sum()>0)])"
   ]
  },
  {
   "cell_type": "code",
   "execution_count": 14,
   "id": "00b481ad",
   "metadata": {},
   "outputs": [
    {
     "name": "stdout",
     "output_type": "stream",
     "text": [
      "Count of null values: 0\n"
     ]
    }
   ],
   "source": [
    "#impute the missing values with mean within subset on Neighborhood(assumption that LotFrontage will be similar within same\n",
    "#neighbourhoods)\n",
    "inp1['LotFrontage'] = inp1.groupby(by='Neighborhood')['LotFrontage'].apply( lambda x : x.fillna(x.mean()) )\n",
    "print('Count of null values:',inp1['LotFrontage'].isna().sum())"
   ]
  },
  {
   "cell_type": "markdown",
   "id": "9ed522f7",
   "metadata": {},
   "source": [
    "**Observation**<br>\n",
    "All values are imputed now for both categorial & continuous features."
   ]
  },
  {
   "cell_type": "markdown",
   "id": "33597909",
   "metadata": {},
   "source": [
    "**2. Reduce the number of categories within a categorical feature**<br>\n",
    "Categories which have lesser number of occurences(10%) within each categorical feature can be replaced with a new categorical value named 'Others'. Such categorical values play a limited role in model building as their occurence is very less in comparison to the rest and yet they cannot be ignored. Also, this is done to reduce the number of dummy variables that will be created during data preparation prior to modelling which in turn will reduce the complexity of the model. "
   ]
  },
  {
   "cell_type": "code",
   "execution_count": 15,
   "id": "7df8ad83",
   "metadata": {},
   "outputs": [
    {
     "name": "stdout",
     "output_type": "stream",
     "text": [
      "MSZoning\n",
      "RL         1151\n",
      "RM          218\n",
      "FV           65\n",
      "RH           16\n",
      "C (all)      10\n",
      "Name: MSZoning, dtype: int64\n",
      "LotShape\n",
      "Reg    925\n",
      "IR1    484\n",
      "IR2     41\n",
      "IR3     10\n",
      "Name: LotShape, dtype: int64\n",
      "LotConfig\n",
      "Inside     1052\n",
      "Corner      263\n",
      "CulDSac      94\n",
      "FR2          47\n",
      "FR3           4\n",
      "Name: LotConfig, dtype: int64\n",
      "Neighborhood\n",
      "NAmes      225\n",
      "CollgCr    150\n",
      "OldTown    113\n",
      "Edwards    100\n",
      "Somerst     86\n",
      "Gilbert     79\n",
      "NridgHt     77\n",
      "Sawyer      74\n",
      "NWAmes      73\n",
      "SawyerW     59\n",
      "BrkSide     58\n",
      "Crawfor     51\n",
      "Mitchel     49\n",
      "NoRidge     41\n",
      "Timber      38\n",
      "IDOTRR      37\n",
      "ClearCr     28\n",
      "StoneBr     25\n",
      "SWISU       25\n",
      "MeadowV     17\n",
      "Blmngtn     17\n",
      "BrDale      16\n",
      "Veenker     11\n",
      "NPkVill      9\n",
      "Blueste      2\n",
      "Name: Neighborhood, dtype: int64\n",
      "HouseStyle\n",
      "1Story    726\n",
      "2Story    445\n",
      "1.5Fin    154\n",
      "SLvl       65\n",
      "SFoyer     37\n",
      "1.5Unf     14\n",
      "2.5Unf     11\n",
      "2.5Fin      8\n",
      "Name: HouseStyle, dtype: int64\n",
      "RoofStyle\n",
      "Gable      1141\n",
      "Hip         286\n",
      "Flat         13\n",
      "Gambrel      11\n",
      "Mansard       7\n",
      "Shed          2\n",
      "Name: RoofStyle, dtype: int64\n",
      "Exterior1st\n",
      "VinylSd    515\n",
      "HdBoard    222\n",
      "MetalSd    220\n",
      "Wd Sdng    206\n",
      "Plywood    108\n",
      "CemntBd     61\n",
      "BrkFace     50\n",
      "WdShing     26\n",
      "Stucco      25\n",
      "AsbShng     20\n",
      "BrkComm      2\n",
      "Stone        2\n",
      "AsphShn      1\n",
      "ImStucc      1\n",
      "CBlock       1\n",
      "Name: Exterior1st, dtype: int64\n",
      "Exterior2nd\n",
      "VinylSd    504\n",
      "MetalSd    214\n",
      "HdBoard    207\n",
      "Wd Sdng    197\n",
      "Plywood    142\n",
      "CmentBd     60\n",
      "Wd Shng     38\n",
      "Stucco      26\n",
      "BrkFace     25\n",
      "AsbShng     20\n",
      "ImStucc     10\n",
      "Brk Cmn      7\n",
      "Stone        5\n",
      "AsphShn      3\n",
      "Other        1\n",
      "CBlock       1\n",
      "Name: Exterior2nd, dtype: int64\n",
      "MasVnrType\n",
      "None       872\n",
      "BrkFace    445\n",
      "Stone      128\n",
      "BrkCmn      15\n",
      "Name: MasVnrType, dtype: int64\n",
      "ExterQual\n",
      "TA    906\n",
      "Gd    488\n",
      "Ex     52\n",
      "Fa     14\n",
      "Name: ExterQual, dtype: int64\n",
      "Foundation\n",
      "PConc     647\n",
      "CBlock    634\n",
      "BrkTil    146\n",
      "Slab       24\n",
      "Stone       6\n",
      "Wood        3\n",
      "Name: Foundation, dtype: int64\n",
      "BsmtQual\n",
      "TA    686\n",
      "Gd    618\n",
      "Ex    121\n",
      "Fa     35\n",
      "Name: BsmtQual, dtype: int64\n",
      "BsmtExposure\n",
      "No    991\n",
      "Av    221\n",
      "Gd    134\n",
      "Mn    114\n",
      "Name: BsmtExposure, dtype: int64\n",
      "HeatingQC\n",
      "Ex    741\n",
      "TA    428\n",
      "Gd    241\n",
      "Fa     49\n",
      "Po      1\n",
      "Name: HeatingQC, dtype: int64\n",
      "KitchenQual\n",
      "TA    735\n",
      "Gd    586\n",
      "Ex    100\n",
      "Fa     39\n",
      "Name: KitchenQual, dtype: int64\n",
      "GarageType\n",
      "Attchd     951\n",
      "Detchd     387\n",
      "BuiltIn     88\n",
      "Basment     19\n",
      "CarPort      9\n",
      "2Types       6\n",
      "Name: GarageType, dtype: int64\n",
      "GarageFinish\n",
      "Unf    686\n",
      "RFn    422\n",
      "Fin    352\n",
      "Name: GarageFinish, dtype: int64\n"
     ]
    }
   ],
   "source": [
    "#list of categorical values and their counts\n",
    "x_dict = {}\n",
    "x_dict = { str(i):inp1[str(i)].value_counts() for i in inp1.select_dtypes(include='object') } \n",
    "for key, value in x_dict.items():\n",
    "    print(key)\n",
    "    print(value)"
   ]
  },
  {
   "cell_type": "code",
   "execution_count": 16,
   "id": "bb62ad33",
   "metadata": {},
   "outputs": [],
   "source": [
    "#replace the occurence of 10% and less with new value 'Others'\n",
    "cat_limit = 0.10*inp1.shape[0]\n",
    "for i in inp1.select_dtypes(include='object'):\n",
    "    cat_limit_list=[]\n",
    "    for value,count in inp1[str(i)].value_counts().items():\n",
    "        if count <= cat_limit:\n",
    "            cat_limit_list.append(str(value))\n",
    "    inp1[str(i)] = inp1[str(i)].apply(lambda x : 'Others' if x in cat_limit_list else x)"
   ]
  },
  {
   "cell_type": "code",
   "execution_count": 17,
   "id": "fc59f9b1",
   "metadata": {},
   "outputs": [
    {
     "name": "stdout",
     "output_type": "stream",
     "text": [
      "MSZoning\n",
      "RL        1151\n",
      "RM         218\n",
      "Others      91\n",
      "Name: MSZoning, dtype: int64\n",
      "LotShape\n",
      "Reg       925\n",
      "IR1       484\n",
      "Others     51\n",
      "Name: LotShape, dtype: int64\n",
      "LotConfig\n",
      "Inside    1052\n",
      "Corner     263\n",
      "Others     145\n",
      "Name: LotConfig, dtype: int64\n",
      "Neighborhood\n",
      "Others     1085\n",
      "NAmes       225\n",
      "CollgCr     150\n",
      "Name: Neighborhood, dtype: int64\n",
      "HouseStyle\n",
      "1Story    726\n",
      "2Story    445\n",
      "1.5Fin    154\n",
      "Others    135\n",
      "Name: HouseStyle, dtype: int64\n",
      "RoofStyle\n",
      "Gable     1141\n",
      "Hip        286\n",
      "Others      33\n",
      "Name: RoofStyle, dtype: int64\n",
      "Exterior1st\n",
      "VinylSd    515\n",
      "Others     297\n",
      "HdBoard    222\n",
      "MetalSd    220\n",
      "Wd Sdng    206\n",
      "Name: Exterior1st, dtype: int64\n",
      "Exterior2nd\n",
      "VinylSd    504\n",
      "Others     338\n",
      "MetalSd    214\n",
      "HdBoard    207\n",
      "Wd Sdng    197\n",
      "Name: Exterior2nd, dtype: int64\n",
      "MasVnrType\n",
      "None       872\n",
      "BrkFace    445\n",
      "Others     143\n",
      "Name: MasVnrType, dtype: int64\n",
      "ExterQual\n",
      "TA        906\n",
      "Gd        488\n",
      "Others     66\n",
      "Name: ExterQual, dtype: int64\n",
      "Foundation\n",
      "PConc     647\n",
      "CBlock    634\n",
      "Others    179\n",
      "Name: Foundation, dtype: int64\n",
      "BsmtQual\n",
      "TA        686\n",
      "Gd        618\n",
      "Others    156\n",
      "Name: BsmtQual, dtype: int64\n",
      "BsmtExposure\n",
      "No        991\n",
      "Others    248\n",
      "Av        221\n",
      "Name: BsmtExposure, dtype: int64\n",
      "HeatingQC\n",
      "Ex        741\n",
      "TA        428\n",
      "Gd        241\n",
      "Others     50\n",
      "Name: HeatingQC, dtype: int64\n",
      "KitchenQual\n",
      "TA        735\n",
      "Gd        586\n",
      "Others    139\n",
      "Name: KitchenQual, dtype: int64\n",
      "GarageType\n",
      "Attchd    951\n",
      "Detchd    387\n",
      "Others    122\n",
      "Name: GarageType, dtype: int64\n",
      "GarageFinish\n",
      "Unf    686\n",
      "RFn    422\n",
      "Fin    352\n",
      "Name: GarageFinish, dtype: int64\n"
     ]
    }
   ],
   "source": [
    "#list of categorical values and their counts\n",
    "x_dict = {}\n",
    "x_dict = { str(i):inp1[str(i)].value_counts() for i in inp1.select_dtypes(include='object') } \n",
    "for key, value in x_dict.items():\n",
    "    print(key)\n",
    "    print(value)"
   ]
  },
  {
   "cell_type": "markdown",
   "id": "372adee3",
   "metadata": {},
   "source": [
    "**3 Create derived metrics and drop the columns from which new metric is derived**"
   ]
  },
  {
   "cell_type": "markdown",
   "id": "fa017f74",
   "metadata": {},
   "source": [
    "**3.1 MoSold, YrSold : join the 2 columns to derive a new metric with month and year**"
   ]
  },
  {
   "cell_type": "code",
   "execution_count": 18,
   "id": "940ba3ee",
   "metadata": {
    "scrolled": true
   },
   "outputs": [],
   "source": [
    "inp1['mySold'] = inp1['YrSold'].astype('str') + '-' + inp1['MoSold'].astype('str')\n",
    "col_drop=[]\n",
    "col_drop.extend(['MoSold','YrSold'])"
   ]
  },
  {
   "cell_type": "code",
   "execution_count": 19,
   "id": "6ecaba91",
   "metadata": {},
   "outputs": [],
   "source": [
    "#convert the year columns into datetime format for further manipulation\n",
    "inp1['YearBuilt']=inp1['YearBuilt'].apply(lambda x:pd.to_datetime(str(x),format='%Y'))\n",
    "inp1['YearRemodAdd']=inp1['YearRemodAdd'].apply(lambda x:pd.to_datetime(str(x),format='%Y'))\n",
    "inp1['mySold']=inp1['mySold'].apply(lambda x:pd.to_datetime(str(x),format='%Y-%m'))"
   ]
  },
  {
   "cell_type": "markdown",
   "id": "cf2fa04e",
   "metadata": {},
   "source": [
    "**3.2 Calculate age of property**"
   ]
  },
  {
   "cell_type": "code",
   "execution_count": null,
   "id": "f71d4317",
   "metadata": {},
   "outputs": [],
   "source": []
  },
  {
   "cell_type": "markdown",
   "id": "e6a1c22d",
   "metadata": {},
   "source": [
    "**4. Fix the data types of all features**"
   ]
  },
  {
   "cell_type": "markdown",
   "id": "0278a03d",
   "metadata": {},
   "source": [
    "**4.1 LotFrontage : convert from float64 to int64**"
   ]
  },
  {
   "cell_type": "code",
   "execution_count": 20,
   "id": "e08db9f4",
   "metadata": {},
   "outputs": [],
   "source": [
    "inp1['LotFrontage'] = inp1['LotFrontage'].apply(lambda x : int(round(x,2)))"
   ]
  },
  {
   "cell_type": "markdown",
   "id": "c7b0ef9a",
   "metadata": {},
   "source": [
    "**4.2 SalePrice : convert from int64 to float64 since it is price**"
   ]
  },
  {
   "cell_type": "code",
   "execution_count": 21,
   "id": "02d6f869",
   "metadata": {},
   "outputs": [],
   "source": [
    "inp1['SalePrice'] = inp1['SalePrice'].apply(lambda x : float(x))"
   ]
  },
  {
   "cell_type": "markdown",
   "id": "b188b414",
   "metadata": {},
   "source": [
    "**5. Neighborhood : category Names is misspelt in dataset according to the data dictionary provided**<br>\n",
    "Assumption made is that all category values must match the ones in the data dictionary."
   ]
  },
  {
   "cell_type": "code",
   "execution_count": 22,
   "id": "fdbc3c7a",
   "metadata": {},
   "outputs": [],
   "source": [
    "inp1['Neighborhood'] = inp1['Neighborhood'].apply(lambda x : x.replace('NAmes','Names'))"
   ]
  },
  {
   "cell_type": "code",
   "execution_count": 23,
   "id": "28beb00b",
   "metadata": {},
   "outputs": [
    {
     "ename": "SyntaxError",
     "evalue": "invalid syntax. Maybe you meant '==' or ':=' instead of '='? (3967754633.py, line 2)",
     "output_type": "error",
     "traceback": [
      "\u001b[1;36m  Cell \u001b[1;32mIn[23], line 2\u001b[1;36m\u001b[0m\n\u001b[1;33m    inp1.drop[col_drop, axis=1, inplace=True]\u001b[0m\n\u001b[1;37m                        ^\u001b[0m\n\u001b[1;31mSyntaxError\u001b[0m\u001b[1;31m:\u001b[0m invalid syntax. Maybe you meant '==' or ':=' instead of '='?\n"
     ]
    }
   ],
   "source": [
    "#drop columns\n",
    "inp1.drop(col_drop, axis=1, inplace=True)"
   ]
  },
  {
   "cell_type": "code",
   "execution_count": null,
   "id": "88170816",
   "metadata": {},
   "outputs": [],
   "source": [
    "#features after data cleaning & manipulation\n",
    "inp1.info()"
   ]
  },
  {
   "cell_type": "code",
   "execution_count": null,
   "id": "3260334d",
   "metadata": {},
   "outputs": [],
   "source": [
    "#year = age old property\n",
    "# year renovate - year sold ; but if year built = year sold then its 0\n",
    "#sum = sum of areas\n",
    "#outlier - LotFrontage"
   ]
  }
 ],
 "metadata": {
  "kernelspec": {
   "display_name": "Python 3 (ipykernel)",
   "language": "python",
   "name": "python3"
  },
  "language_info": {
   "codemirror_mode": {
    "name": "ipython",
    "version": 3
   },
   "file_extension": ".py",
   "mimetype": "text/x-python",
   "name": "python",
   "nbconvert_exporter": "python",
   "pygments_lexer": "ipython3",
   "version": "3.10.9"
  }
 },
 "nbformat": 4,
 "nbformat_minor": 5
}
