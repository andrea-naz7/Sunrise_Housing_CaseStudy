{
 "cells": [
  {
   "cell_type": "markdown",
   "id": "494c5745",
   "metadata": {},
   "source": [
    "# Sunrise Housing Case study"
   ]
  },
  {
   "cell_type": "markdown",
   "id": "a2d23e15",
   "metadata": {},
   "source": [
    "## Objective"
   ]
  },
  {
   "cell_type": "markdown",
   "id": "3cbf31a3",
   "metadata": {},
   "source": [
    "Identify prospective properties to invest in based on the prediction of the sale value of these properties."
   ]
  },
  {
   "cell_type": "code",
   "execution_count": 1,
   "id": "a29aeaf0",
   "metadata": {},
   "outputs": [],
   "source": [
    "import numpy as np\n",
    "import pandas as pd\n",
    "import matplotlib.pyplot as plt\n",
    "import seaborn as sns\n",
    "\n",
    "from dateutil import relativedelta\n",
    "\n",
    "from sklearn.model_selection import train_test_split\n",
    "from sklearn.preprocessing import StandardScaler\n",
    "from sklearn.feature_selection import RFE\n",
    "from sklearn.linear_model import LinearRegression\n",
    "from sklearn.model_selection import cross_val_score\n",
    "from sklearn.model_selection import KFold\n",
    "from sklearn.model_selection import GridSearchCV\n",
    "from sklearn.pipeline import make_pipeline\n",
    "from statsmodels.stats.outliers_influence import variance_inflation_factor\n",
    "from sklearn.linear_model import Ridge\n",
    "from sklearn.linear_model import Lasso\n",
    "from sklearn.metrics import r2_score, mean_squared_error\n",
    "\n",
    "import warnings\n",
    "warnings.filterwarnings('ignore')\n",
    "\n",
    "%matplotlib inline\n",
    "plt.style.use('ggplot')"
   ]
  },
  {
   "cell_type": "code",
   "execution_count": 2,
   "id": "1c19073f",
   "metadata": {},
   "outputs": [
    {
     "data": {
      "text/html": [
       "<div>\n",
       "<style scoped>\n",
       "    .dataframe tbody tr th:only-of-type {\n",
       "        vertical-align: middle;\n",
       "    }\n",
       "\n",
       "    .dataframe tbody tr th {\n",
       "        vertical-align: top;\n",
       "    }\n",
       "\n",
       "    .dataframe thead th {\n",
       "        text-align: right;\n",
       "    }\n",
       "</style>\n",
       "<table border=\"1\" class=\"dataframe\">\n",
       "  <thead>\n",
       "    <tr style=\"text-align: right;\">\n",
       "      <th></th>\n",
       "      <th>Id</th>\n",
       "      <th>MSSubClass</th>\n",
       "      <th>MSZoning</th>\n",
       "      <th>LotFrontage</th>\n",
       "      <th>LotArea</th>\n",
       "      <th>Street</th>\n",
       "      <th>Alley</th>\n",
       "      <th>LotShape</th>\n",
       "      <th>LandContour</th>\n",
       "      <th>Utilities</th>\n",
       "      <th>...</th>\n",
       "      <th>PoolArea</th>\n",
       "      <th>PoolQC</th>\n",
       "      <th>Fence</th>\n",
       "      <th>MiscFeature</th>\n",
       "      <th>MiscVal</th>\n",
       "      <th>MoSold</th>\n",
       "      <th>YrSold</th>\n",
       "      <th>SaleType</th>\n",
       "      <th>SaleCondition</th>\n",
       "      <th>SalePrice</th>\n",
       "    </tr>\n",
       "  </thead>\n",
       "  <tbody>\n",
       "    <tr>\n",
       "      <th>0</th>\n",
       "      <td>1</td>\n",
       "      <td>60</td>\n",
       "      <td>RL</td>\n",
       "      <td>65.0</td>\n",
       "      <td>8450</td>\n",
       "      <td>Pave</td>\n",
       "      <td>NaN</td>\n",
       "      <td>Reg</td>\n",
       "      <td>Lvl</td>\n",
       "      <td>AllPub</td>\n",
       "      <td>...</td>\n",
       "      <td>0</td>\n",
       "      <td>NaN</td>\n",
       "      <td>NaN</td>\n",
       "      <td>NaN</td>\n",
       "      <td>0</td>\n",
       "      <td>2</td>\n",
       "      <td>2008</td>\n",
       "      <td>WD</td>\n",
       "      <td>Normal</td>\n",
       "      <td>208500</td>\n",
       "    </tr>\n",
       "    <tr>\n",
       "      <th>1</th>\n",
       "      <td>2</td>\n",
       "      <td>20</td>\n",
       "      <td>RL</td>\n",
       "      <td>80.0</td>\n",
       "      <td>9600</td>\n",
       "      <td>Pave</td>\n",
       "      <td>NaN</td>\n",
       "      <td>Reg</td>\n",
       "      <td>Lvl</td>\n",
       "      <td>AllPub</td>\n",
       "      <td>...</td>\n",
       "      <td>0</td>\n",
       "      <td>NaN</td>\n",
       "      <td>NaN</td>\n",
       "      <td>NaN</td>\n",
       "      <td>0</td>\n",
       "      <td>5</td>\n",
       "      <td>2007</td>\n",
       "      <td>WD</td>\n",
       "      <td>Normal</td>\n",
       "      <td>181500</td>\n",
       "    </tr>\n",
       "    <tr>\n",
       "      <th>2</th>\n",
       "      <td>3</td>\n",
       "      <td>60</td>\n",
       "      <td>RL</td>\n",
       "      <td>68.0</td>\n",
       "      <td>11250</td>\n",
       "      <td>Pave</td>\n",
       "      <td>NaN</td>\n",
       "      <td>IR1</td>\n",
       "      <td>Lvl</td>\n",
       "      <td>AllPub</td>\n",
       "      <td>...</td>\n",
       "      <td>0</td>\n",
       "      <td>NaN</td>\n",
       "      <td>NaN</td>\n",
       "      <td>NaN</td>\n",
       "      <td>0</td>\n",
       "      <td>9</td>\n",
       "      <td>2008</td>\n",
       "      <td>WD</td>\n",
       "      <td>Normal</td>\n",
       "      <td>223500</td>\n",
       "    </tr>\n",
       "    <tr>\n",
       "      <th>3</th>\n",
       "      <td>4</td>\n",
       "      <td>70</td>\n",
       "      <td>RL</td>\n",
       "      <td>60.0</td>\n",
       "      <td>9550</td>\n",
       "      <td>Pave</td>\n",
       "      <td>NaN</td>\n",
       "      <td>IR1</td>\n",
       "      <td>Lvl</td>\n",
       "      <td>AllPub</td>\n",
       "      <td>...</td>\n",
       "      <td>0</td>\n",
       "      <td>NaN</td>\n",
       "      <td>NaN</td>\n",
       "      <td>NaN</td>\n",
       "      <td>0</td>\n",
       "      <td>2</td>\n",
       "      <td>2006</td>\n",
       "      <td>WD</td>\n",
       "      <td>Abnorml</td>\n",
       "      <td>140000</td>\n",
       "    </tr>\n",
       "    <tr>\n",
       "      <th>4</th>\n",
       "      <td>5</td>\n",
       "      <td>60</td>\n",
       "      <td>RL</td>\n",
       "      <td>84.0</td>\n",
       "      <td>14260</td>\n",
       "      <td>Pave</td>\n",
       "      <td>NaN</td>\n",
       "      <td>IR1</td>\n",
       "      <td>Lvl</td>\n",
       "      <td>AllPub</td>\n",
       "      <td>...</td>\n",
       "      <td>0</td>\n",
       "      <td>NaN</td>\n",
       "      <td>NaN</td>\n",
       "      <td>NaN</td>\n",
       "      <td>0</td>\n",
       "      <td>12</td>\n",
       "      <td>2008</td>\n",
       "      <td>WD</td>\n",
       "      <td>Normal</td>\n",
       "      <td>250000</td>\n",
       "    </tr>\n",
       "  </tbody>\n",
       "</table>\n",
       "<p>5 rows × 81 columns</p>\n",
       "</div>"
      ],
      "text/plain": [
       "   Id  MSSubClass MSZoning  LotFrontage  LotArea Street Alley LotShape  \\\n",
       "0   1          60       RL         65.0     8450   Pave   NaN      Reg   \n",
       "1   2          20       RL         80.0     9600   Pave   NaN      Reg   \n",
       "2   3          60       RL         68.0    11250   Pave   NaN      IR1   \n",
       "3   4          70       RL         60.0     9550   Pave   NaN      IR1   \n",
       "4   5          60       RL         84.0    14260   Pave   NaN      IR1   \n",
       "\n",
       "  LandContour Utilities  ... PoolArea PoolQC Fence MiscFeature MiscVal MoSold  \\\n",
       "0         Lvl    AllPub  ...        0    NaN   NaN         NaN       0      2   \n",
       "1         Lvl    AllPub  ...        0    NaN   NaN         NaN       0      5   \n",
       "2         Lvl    AllPub  ...        0    NaN   NaN         NaN       0      9   \n",
       "3         Lvl    AllPub  ...        0    NaN   NaN         NaN       0      2   \n",
       "4         Lvl    AllPub  ...        0    NaN   NaN         NaN       0     12   \n",
       "\n",
       "  YrSold  SaleType  SaleCondition  SalePrice  \n",
       "0   2008        WD         Normal     208500  \n",
       "1   2007        WD         Normal     181500  \n",
       "2   2008        WD         Normal     223500  \n",
       "3   2006        WD        Abnorml     140000  \n",
       "4   2008        WD         Normal     250000  \n",
       "\n",
       "[5 rows x 81 columns]"
      ]
     },
     "execution_count": 2,
     "metadata": {},
     "output_type": "execute_result"
    }
   ],
   "source": [
    "# load the dataset\n",
    "inp0 = pd.read_csv('train.csv', header=0)\n",
    "inp0.head()"
   ]
  },
  {
   "cell_type": "markdown",
   "id": "1dbb21b9",
   "metadata": {},
   "source": [
    "### I.  Data understanding"
   ]
  },
  {
   "cell_type": "markdown",
   "id": "8067ecf9",
   "metadata": {},
   "source": [
    "Following features are total values found in the dataset:<br>\n",
    "*TotalBsmtSF = BsmtFinSF1 + BsmtFinSF2 + BsmtUnfSF ; drop columns<br>\n",
    "TotRmsAbvGrd = BsmtFullBath + BsmtHalfBath + FullBath + HalfBath + BedroomAbvGr + KitchenAbvGr<br>\n",
    "GrLivArea = 1stFlrSF + 2ndFlrSF + LowQualFinSF<br>*\n",
    "However, cannot drop the individual features that sum up to the totals until the correlation matrix is known under EDA"
   ]
  },
  {
   "cell_type": "markdown",
   "id": "b088d4c2",
   "metadata": {},
   "source": [
    "**1. Number of rows, columns and column names**"
   ]
  },
  {
   "cell_type": "code",
   "execution_count": 3,
   "id": "72fd2c56",
   "metadata": {},
   "outputs": [
    {
     "data": {
      "text/plain": [
       "(1460, 81)"
      ]
     },
     "execution_count": 3,
     "metadata": {},
     "output_type": "execute_result"
    }
   ],
   "source": [
    "inp0.shape"
   ]
  },
  {
   "cell_type": "code",
   "execution_count": 4,
   "id": "ae3d9fa5",
   "metadata": {},
   "outputs": [
    {
     "name": "stdout",
     "output_type": "stream",
     "text": [
      "['Id', 'MSSubClass', 'MSZoning', 'LotFrontage', 'LotArea', 'Street', 'Alley', 'LotShape', 'LandContour', 'Utilities', 'LotConfig', 'LandSlope', 'Neighborhood', 'Condition1', 'Condition2', 'BldgType', 'HouseStyle', 'OverallQual', 'OverallCond', 'YearBuilt', 'YearRemodAdd', 'RoofStyle', 'RoofMatl', 'Exterior1st', 'Exterior2nd', 'MasVnrType', 'MasVnrArea', 'ExterQual', 'ExterCond', 'Foundation', 'BsmtQual', 'BsmtCond', 'BsmtExposure', 'BsmtFinType1', 'BsmtFinSF1', 'BsmtFinType2', 'BsmtFinSF2', 'BsmtUnfSF', 'TotalBsmtSF', 'Heating', 'HeatingQC', 'CentralAir', 'Electrical', '1stFlrSF', '2ndFlrSF', 'LowQualFinSF', 'GrLivArea', 'BsmtFullBath', 'BsmtHalfBath', 'FullBath', 'HalfBath', 'BedroomAbvGr', 'KitchenAbvGr', 'KitchenQual', 'TotRmsAbvGrd', 'Functional', 'Fireplaces', 'FireplaceQu', 'GarageType', 'GarageYrBlt', 'GarageFinish', 'GarageCars', 'GarageArea', 'GarageQual', 'GarageCond', 'PavedDrive', 'WoodDeckSF', 'OpenPorchSF', 'EnclosedPorch', '3SsnPorch', 'ScreenPorch', 'PoolArea', 'PoolQC', 'Fence', 'MiscFeature', 'MiscVal', 'MoSold', 'YrSold', 'SaleType', 'SaleCondition', 'SalePrice']\n"
     ]
    }
   ],
   "source": [
    "print(list(inp0.columns))"
   ]
  },
  {
   "cell_type": "markdown",
   "id": "fafd5818",
   "metadata": {},
   "source": [
    "**Observation**<br>\n",
    "1. Number of rows = 1460. Number of columns = 81.<br>\n",
    "2. Large number of columns implies that many will need to be dropped or they can be used to derive new metrics."
   ]
  },
  {
   "cell_type": "markdown",
   "id": "78ea8efd",
   "metadata": {},
   "source": [
    "**2. Drop feature Id**<br>\n",
    "Id is used for identification and is not known when the unseen data is processed."
   ]
  },
  {
   "cell_type": "code",
   "execution_count": 5,
   "id": "39b5c348",
   "metadata": {},
   "outputs": [],
   "source": [
    "col_drop = ['Id']"
   ]
  },
  {
   "cell_type": "markdown",
   "id": "00214bae",
   "metadata": {},
   "source": [
    "**3. Presence of NaN or Null**"
   ]
  },
  {
   "cell_type": "code",
   "execution_count": 6,
   "id": "3b750038",
   "metadata": {},
   "outputs": [
    {
     "name": "stdout",
     "output_type": "stream",
     "text": [
      "NaN :  [0, 0, 0, 259, 0, 0, 1369, 0, 0, 0, 0, 0, 0, 0, 0, 0, 0, 0, 0, 0, 0, 0, 0, 0, 0, 8, 8, 0, 0, 0, 37, 37, 38, 37, 0, 38, 0, 0, 0, 0, 0, 0, 1, 0, 0, 0, 0, 0, 0, 0, 0, 0, 0, 0, 0, 0, 0, 690, 81, 81, 81, 0, 0, 81, 81, 0, 0, 0, 0, 0, 0, 0, 1453, 1179, 1406, 0, 0, 0, 0, 0, 0]\n",
      "Null:  [0, 0, 0, 259, 0, 0, 1369, 0, 0, 0, 0, 0, 0, 0, 0, 0, 0, 0, 0, 0, 0, 0, 0, 0, 0, 8, 8, 0, 0, 0, 37, 37, 38, 37, 0, 38, 0, 0, 0, 0, 0, 0, 1, 0, 0, 0, 0, 0, 0, 0, 0, 0, 0, 0, 0, 0, 0, 690, 81, 81, 81, 0, 0, 81, 81, 0, 0, 0, 0, 0, 0, 0, 1453, 1179, 1406, 0, 0, 0, 0, 0, 0]\n"
     ]
    }
   ],
   "source": [
    "#presence of NaN values & Null values\n",
    "print('NaN : ' , list( [inp0[i].isna().sum() for i in inp0.columns]))\n",
    "print('Null: ', list( [inp0[i].isnull().sum() for i in inp0.columns]))"
   ]
  },
  {
   "cell_type": "markdown",
   "id": "0bc56bdc",
   "metadata": {},
   "source": [
    "**Observation**<br>\n",
    "The number of NaN and Null values are same for all the columns in the dataset. <br>\n",
    "**Action**<br>\n",
    "Find columns and the percentage of the NaN values which are non-zero to determine further action."
   ]
  },
  {
   "cell_type": "code",
   "execution_count": 7,
   "id": "a86156a4",
   "metadata": {
    "scrolled": true
   },
   "outputs": [
    {
     "name": "stdout",
     "output_type": "stream",
     "text": [
      "{'PoolQC': 99.52, 'MiscFeature': 96.3, 'Alley': 93.77, 'Fence': 80.75, 'FireplaceQu': 47.26, 'LotFrontage': 17.74, 'GarageType': 5.55, 'GarageYrBlt': 5.55, 'GarageFinish': 5.55, 'GarageQual': 5.55, 'GarageCond': 5.55, 'BsmtExposure': 2.6, 'BsmtFinType2': 2.6, 'BsmtQual': 2.53, 'BsmtCond': 2.53, 'BsmtFinType1': 2.53, 'MasVnrType': 0.55, 'MasVnrArea': 0.55, 'Electrical': 0.07}\n"
     ]
    }
   ],
   "source": [
    "#many NaN & Null values present; find the columns names for more information and store in a dictionary with percentages\n",
    "inp0_dict0 = {str(i) : round(((inp0[i].isna().sum()/inp0.shape[0])* 100),2) for i in inp0.columns if inp0[i].isna().sum()>0 }\n",
    "\n",
    "#sort the dictionary with highest percentages first and print; returns a tuple\n",
    "inp0_dict1 = sorted( inp0_dict0.items() , key = lambda x : x[1], reverse=True)\n",
    "\n",
    "#convert tuple to dict\n",
    "inp0_dict0 = { }\n",
    "inp0_dict0 = { key:value for key,value in inp0_dict1 }\n",
    "\n",
    "#print columns with NaN values\n",
    "print(inp0_dict0)"
   ]
  },
  {
   "cell_type": "markdown",
   "id": "6f960d2d",
   "metadata": {},
   "source": [
    "**Observation**<br>\n",
    "Drop the columns with very high percentage of NaN values ie above 30%. These columns have NA values meaning None for categorical variables implying the absence of the said feature which is very high. For remaining columns, find the common number of rows satisfying them and drop them if required else, impute these columns."
   ]
  },
  {
   "cell_type": "code",
   "execution_count": 8,
   "id": "1f65e616",
   "metadata": {},
   "outputs": [],
   "source": [
    "#dropping columns with missing values above 30%\n",
    "col_drop.extend([key for key,value in inp0_dict0.items() if value >= 30])\n",
    "inp0.drop(col_drop, axis=1, inplace=True)"
   ]
  },
  {
   "cell_type": "markdown",
   "id": "35bad5e8",
   "metadata": {},
   "source": [
    "**4. Determine columns with high number of zeros or categorical features with values highly favouring one value and add them to drop list**<br>\n",
    "    Since number of rows are less, none will be removed and the missing values will be imputed."
   ]
  },
  {
   "cell_type": "code",
   "execution_count": 9,
   "id": "48da65dc",
   "metadata": {},
   "outputs": [],
   "source": [
    "#find all columns with high number of zeroes(30% of zeros ok in each column) and drop them\n",
    "inp0_0col = [i for i in inp0.columns if (inp0[i] == 0).sum()>(0.3*(inp0.shape[0]))]\n",
    "col_drop=[]\n",
    "col_drop.extend(inp0_0col)\n",
    "\n",
    "#find categorical features favouring highly only 1 value; highest count is more than 85% of the total rows; no variance\n",
    "col_drop.extend(\n",
    "    [i for i in inp0.select_dtypes(include='object').columns if inp0[i].value_counts().max() > (0.8*(inp0.shape[0]))])"
   ]
  },
  {
   "cell_type": "code",
   "execution_count": 10,
   "id": "d4030071",
   "metadata": {},
   "outputs": [],
   "source": [
    "#categorical features containing high number of None; other categorical features have the same value as NA\n",
    "col_drop.extend([i for i in inp0.select_dtypes(include='object').columns if (inp0[i] == 'None').sum()>0])\n",
    "inp0.drop(col_drop, axis=1, inplace=True)"
   ]
  },
  {
   "cell_type": "code",
   "execution_count": 11,
   "id": "420e3280",
   "metadata": {},
   "outputs": [
    {
     "name": "stdout",
     "output_type": "stream",
     "text": [
      "<class 'pandas.core.frame.DataFrame'>\n",
      "RangeIndex: 1460 entries, 0 to 1459\n",
      "Data columns (total 38 columns):\n",
      " #   Column        Non-Null Count  Dtype  \n",
      "---  ------        --------------  -----  \n",
      " 0   MSSubClass    1460 non-null   int64  \n",
      " 1   MSZoning      1460 non-null   object \n",
      " 2   LotFrontage   1201 non-null   float64\n",
      " 3   LotArea       1460 non-null   int64  \n",
      " 4   LotShape      1460 non-null   object \n",
      " 5   LotConfig     1460 non-null   object \n",
      " 6   Neighborhood  1460 non-null   object \n",
      " 7   HouseStyle    1460 non-null   object \n",
      " 8   OverallQual   1460 non-null   int64  \n",
      " 9   OverallCond   1460 non-null   int64  \n",
      " 10  YearBuilt     1460 non-null   int64  \n",
      " 11  YearRemodAdd  1460 non-null   int64  \n",
      " 12  RoofStyle     1460 non-null   object \n",
      " 13  Exterior1st   1460 non-null   object \n",
      " 14  Exterior2nd   1460 non-null   object \n",
      " 15  ExterQual     1460 non-null   object \n",
      " 16  Foundation    1460 non-null   object \n",
      " 17  BsmtQual      1423 non-null   object \n",
      " 18  BsmtExposure  1422 non-null   object \n",
      " 19  BsmtFinType1  1423 non-null   object \n",
      " 20  BsmtUnfSF     1460 non-null   int64  \n",
      " 21  TotalBsmtSF   1460 non-null   int64  \n",
      " 22  HeatingQC     1460 non-null   object \n",
      " 23  1stFlrSF      1460 non-null   int64  \n",
      " 24  GrLivArea     1460 non-null   int64  \n",
      " 25  FullBath      1460 non-null   int64  \n",
      " 26  BedroomAbvGr  1460 non-null   int64  \n",
      " 27  KitchenAbvGr  1460 non-null   int64  \n",
      " 28  KitchenQual   1460 non-null   object \n",
      " 29  TotRmsAbvGrd  1460 non-null   int64  \n",
      " 30  GarageType    1379 non-null   object \n",
      " 31  GarageYrBlt   1379 non-null   float64\n",
      " 32  GarageFinish  1379 non-null   object \n",
      " 33  GarageCars    1460 non-null   int64  \n",
      " 34  GarageArea    1460 non-null   int64  \n",
      " 35  MoSold        1460 non-null   int64  \n",
      " 36  YrSold        1460 non-null   int64  \n",
      " 37  SalePrice     1460 non-null   int64  \n",
      "dtypes: float64(2), int64(19), object(17)\n",
      "memory usage: 433.6+ KB\n"
     ]
    }
   ],
   "source": [
    "inp0.info()"
   ]
  },
  {
   "cell_type": "markdown",
   "id": "07b2920c",
   "metadata": {},
   "source": [
    "### II. Data cleaning & manipulation"
   ]
  },
  {
   "cell_type": "code",
   "execution_count": 12,
   "id": "bbfd1e41",
   "metadata": {},
   "outputs": [],
   "source": [
    "# copy inital dataset\n",
    "inp1 = inp0.copy()"
   ]
  },
  {
   "cell_type": "markdown",
   "id": "44df97e7",
   "metadata": {},
   "source": [
    "**1. Fix the data types of all features**<br>\n",
    "MSSubClass,OverallQual,OverallCond : convert to object from int64/float64 since it is a categorical value"
   ]
  },
  {
   "cell_type": "code",
   "execution_count": 13,
   "id": "d173d0e5",
   "metadata": {},
   "outputs": [],
   "source": [
    "inp1['MSSubClass'] = inp1['MSSubClass'].astype('str')\n",
    "inp1['OverallQual'] = inp1['OverallQual'].astype('str')\n",
    "inp1['OverallCond'] = inp1['OverallCond'].astype('str')"
   ]
  },
  {
   "cell_type": "markdown",
   "id": "dd850d11",
   "metadata": {},
   "source": [
    "**Observation**<br>\n",
    "Sales price is ideally in float but since the dataset contains integer values for the properties, it would be best to retain\n",
    "this"
   ]
  },
  {
   "cell_type": "markdown",
   "id": "7b79641f",
   "metadata": {},
   "source": [
    "**2. Impute missing values for categorical & continous features**<br>\n",
    "**2.1 Categorical features**"
   ]
  },
  {
   "cell_type": "code",
   "execution_count": 14,
   "id": "be8cc01d",
   "metadata": {},
   "outputs": [
    {
     "name": "stdout",
     "output_type": "stream",
     "text": [
      "[]\n"
     ]
    }
   ],
   "source": [
    "#impute categorial features with mode\n",
    "\n",
    "#find all the categorial features with missing values\n",
    "cat_impute = [ str(i) for i in inp1.select_dtypes(include='object') if (inp1[str(i)].isna().sum()>0) ]\n",
    "\n",
    "#impute the missing values with mode\n",
    "for i in cat_impute:    \n",
    "    inp1[str(i)] = inp1[str(i)].fillna(str(inp1[str(i)].mode()[0]))    \n",
    "\n",
    "#confirm that no categorical feature has any missing value\n",
    "print([ str(i) for i in inp1.select_dtypes(include='object') if (inp1[str(i)].isna().sum()>0) ])"
   ]
  },
  {
   "cell_type": "markdown",
   "id": "bc7ed071",
   "metadata": {},
   "source": [
    "**2.2 Continuous features**"
   ]
  },
  {
   "cell_type": "code",
   "execution_count": 15,
   "id": "e8c5e306",
   "metadata": {},
   "outputs": [
    {
     "name": "stdout",
     "output_type": "stream",
     "text": [
      "['LotFrontage', 'GarageYrBlt']\n"
     ]
    }
   ],
   "source": [
    "#impute continuous features with mean\n",
    "\n",
    "#find all the continuous features with missing values\n",
    "print([str(i) for i in inp1.select_dtypes(include=['int64','float64']) if(inp1[str(i)].isna().sum()>0)])"
   ]
  },
  {
   "cell_type": "markdown",
   "id": "213a913d",
   "metadata": {},
   "source": [
    "Dealing with feature LotFrontage"
   ]
  },
  {
   "cell_type": "code",
   "execution_count": 16,
   "id": "84d7ceac",
   "metadata": {},
   "outputs": [
    {
     "data": {
      "text/plain": [
       "count    1201.000000\n",
       "mean       70.049958\n",
       "std        24.284752\n",
       "min        21.000000\n",
       "25%        59.000000\n",
       "50%        69.000000\n",
       "75%        80.000000\n",
       "max       313.000000\n",
       "Name: LotFrontage, dtype: float64"
      ]
     },
     "execution_count": 16,
     "metadata": {},
     "output_type": "execute_result"
    }
   ],
   "source": [
    "#check if outliers present; cannot plot boxplot because of missing values\n",
    "inp1['LotFrontage'].describe()"
   ]
  },
  {
   "cell_type": "code",
   "execution_count": 17,
   "id": "79f7db6b",
   "metadata": {},
   "outputs": [
    {
     "name": "stdout",
     "output_type": "stream",
     "text": [
      "Count of null values present in feature LotFrontage: 0\n"
     ]
    }
   ],
   "source": [
    "#LotFrontage: impute the missing values with median within subset on Neighborhood(assumption that LotFrontage will be similar \n",
    "# within sameneighbourhoods) since from above can see indications of outliers; convert from float to int\n",
    "inp1['LotFrontage'] = inp1.groupby(by='Neighborhood')['LotFrontage'].apply( lambda x : x.fillna(x.median()) )\n",
    "inp1['LotFrontage'] = inp1['LotFrontage'].astype('int64')\n",
    "\n",
    "print('Count of null values present in feature LotFrontage:',inp1['LotFrontage'].isna().sum())"
   ]
  },
  {
   "cell_type": "markdown",
   "id": "c94976dd",
   "metadata": {},
   "source": [
    "Dealing with feature GarageYrBlt"
   ]
  },
  {
   "cell_type": "code",
   "execution_count": 18,
   "id": "3a2ddea4",
   "metadata": {},
   "outputs": [
    {
     "name": "stdout",
     "output_type": "stream",
     "text": [
      "     GarageType  GarageYrBlt GarageFinish  GarageCars  GarageArea\n",
      "39       Attchd          NaN          Unf           0           0\n",
      "48       Attchd          NaN          Unf           0           0\n",
      "78       Attchd          NaN          Unf           0           0\n",
      "88       Attchd          NaN          Unf           0           0\n",
      "89       Attchd          NaN          Unf           0           0\n",
      "...         ...          ...          ...         ...         ...\n",
      "1349     Attchd          NaN          Unf           0           0\n",
      "1407     Attchd          NaN          Unf           0           0\n",
      "1449     Attchd          NaN          Unf           0           0\n",
      "1450     Attchd          NaN          Unf           0           0\n",
      "1453     Attchd          NaN          Unf           0           0\n",
      "\n",
      "[81 rows x 5 columns]\n"
     ]
    }
   ],
   "source": [
    "#'GarageYrBlt' even though is of type float64 is a date datatype and therefore is not continuous but categorical\n",
    "\n",
    "#find list of features names starting with Garage to figure out if there is a Garage or not\n",
    "x_list = [ str(i) for i in inp1.columns if str(i).startswith('Garage')]\n",
    "\n",
    "#contain the list of rows in a dataframe\n",
    "x_df = inp1[x_list][inp1.GarageYrBlt.isna()]\n",
    "print(x_df)"
   ]
  },
  {
   "cell_type": "code",
   "execution_count": 19,
   "id": "a2f0bf2c",
   "metadata": {},
   "outputs": [
    {
     "name": "stdout",
     "output_type": "stream",
     "text": [
      "Total sum of garage area where GarageYrBlt is missing:  0\n"
     ]
    }
   ],
   "source": [
    "#find the sum of the feature GarageArea for this dataframe\n",
    "print('Total sum of garage area where GarageYrBlt is missing: ' ,x_df['GarageArea'].sum())"
   ]
  },
  {
   "cell_type": "markdown",
   "id": "8c7d5bb8",
   "metadata": {},
   "source": [
    "**Observation**<br>\n",
    "Since the garage area is zero, this implies that there is no garage in these properties and therefore the year built for \n",
    "garage will be 0. Therfore impute this categorical value with 0."
   ]
  },
  {
   "cell_type": "code",
   "execution_count": 20,
   "id": "45f81ca4",
   "metadata": {},
   "outputs": [
    {
     "name": "stdout",
     "output_type": "stream",
     "text": [
      "Number of missing values in GarageYrBlt:  0\n"
     ]
    }
   ],
   "source": [
    "inp1['GarageYrBlt'] = inp1['GarageYrBlt'].fillna(0) \n",
    "\n",
    "#confirm whether any missing values are present\n",
    "print('Number of missing values in GarageYrBlt: ',inp1['GarageYrBlt'].isna().sum())"
   ]
  },
  {
   "cell_type": "markdown",
   "id": "2362c72b",
   "metadata": {},
   "source": [
    "**Observation**<br>\n",
    "All values are imputed now for both categorial & continuous features."
   ]
  },
  {
   "cell_type": "markdown",
   "id": "7d0aa586",
   "metadata": {},
   "source": [
    "**3. Reduce the number of categories within a categorical feature & map the categories to string values**<br>\n",
    "Categories which have lesser number of occurences(10%) within each categorical feature can be replaced with a new categorical value named 'Others'. Such categorical values play a limited role in model building as their occurence is very less in comparison to the rest and yet they cannot be ignored. Also, this is done to reduce the number of dummy variables that will be created during data preparation prior to modelling which in turn will reduce the complexity of the model. "
   ]
  },
  {
   "cell_type": "markdown",
   "id": "a02dbae4",
   "metadata": {},
   "source": [
    "**3.1 Determine the current state of the categories within the categorical features**"
   ]
  },
  {
   "cell_type": "code",
   "execution_count": 21,
   "id": "e4d3e662",
   "metadata": {},
   "outputs": [
    {
     "name": "stdout",
     "output_type": "stream",
     "text": [
      "MSSubClass\n",
      "20     536\n",
      "60     299\n",
      "50     144\n",
      "120     87\n",
      "30      69\n",
      "160     63\n",
      "70      60\n",
      "80      58\n",
      "90      52\n",
      "190     30\n",
      "85      20\n",
      "75      16\n",
      "45      12\n",
      "180     10\n",
      "40       4\n",
      "Name: MSSubClass, dtype: int64\n",
      "MSZoning\n",
      "RL         1151\n",
      "RM          218\n",
      "FV           65\n",
      "RH           16\n",
      "C (all)      10\n",
      "Name: MSZoning, dtype: int64\n",
      "LotShape\n",
      "Reg    925\n",
      "IR1    484\n",
      "IR2     41\n",
      "IR3     10\n",
      "Name: LotShape, dtype: int64\n",
      "LotConfig\n",
      "Inside     1052\n",
      "Corner      263\n",
      "CulDSac      94\n",
      "FR2          47\n",
      "FR3           4\n",
      "Name: LotConfig, dtype: int64\n",
      "Neighborhood\n",
      "NAmes      225\n",
      "CollgCr    150\n",
      "OldTown    113\n",
      "Edwards    100\n",
      "Somerst     86\n",
      "Gilbert     79\n",
      "NridgHt     77\n",
      "Sawyer      74\n",
      "NWAmes      73\n",
      "SawyerW     59\n",
      "BrkSide     58\n",
      "Crawfor     51\n",
      "Mitchel     49\n",
      "NoRidge     41\n",
      "Timber      38\n",
      "IDOTRR      37\n",
      "ClearCr     28\n",
      "StoneBr     25\n",
      "SWISU       25\n",
      "MeadowV     17\n",
      "Blmngtn     17\n",
      "BrDale      16\n",
      "Veenker     11\n",
      "NPkVill      9\n",
      "Blueste      2\n",
      "Name: Neighborhood, dtype: int64\n",
      "HouseStyle\n",
      "1Story    726\n",
      "2Story    445\n",
      "1.5Fin    154\n",
      "SLvl       65\n",
      "SFoyer     37\n",
      "1.5Unf     14\n",
      "2.5Unf     11\n",
      "2.5Fin      8\n",
      "Name: HouseStyle, dtype: int64\n",
      "OverallQual\n",
      "5     397\n",
      "6     374\n",
      "7     319\n",
      "8     168\n",
      "4     116\n",
      "9      43\n",
      "3      20\n",
      "10     18\n",
      "2       3\n",
      "1       2\n",
      "Name: OverallQual, dtype: int64\n",
      "OverallCond\n",
      "5    821\n",
      "6    252\n",
      "7    205\n",
      "8     72\n",
      "4     57\n",
      "3     25\n",
      "9     22\n",
      "2      5\n",
      "1      1\n",
      "Name: OverallCond, dtype: int64\n",
      "RoofStyle\n",
      "Gable      1141\n",
      "Hip         286\n",
      "Flat         13\n",
      "Gambrel      11\n",
      "Mansard       7\n",
      "Shed          2\n",
      "Name: RoofStyle, dtype: int64\n",
      "Exterior1st\n",
      "VinylSd    515\n",
      "HdBoard    222\n",
      "MetalSd    220\n",
      "Wd Sdng    206\n",
      "Plywood    108\n",
      "CemntBd     61\n",
      "BrkFace     50\n",
      "WdShing     26\n",
      "Stucco      25\n",
      "AsbShng     20\n",
      "BrkComm      2\n",
      "Stone        2\n",
      "AsphShn      1\n",
      "ImStucc      1\n",
      "CBlock       1\n",
      "Name: Exterior1st, dtype: int64\n",
      "Exterior2nd\n",
      "VinylSd    504\n",
      "MetalSd    214\n",
      "HdBoard    207\n",
      "Wd Sdng    197\n",
      "Plywood    142\n",
      "CmentBd     60\n",
      "Wd Shng     38\n",
      "Stucco      26\n",
      "BrkFace     25\n",
      "AsbShng     20\n",
      "ImStucc     10\n",
      "Brk Cmn      7\n",
      "Stone        5\n",
      "AsphShn      3\n",
      "Other        1\n",
      "CBlock       1\n",
      "Name: Exterior2nd, dtype: int64\n",
      "ExterQual\n",
      "TA    906\n",
      "Gd    488\n",
      "Ex     52\n",
      "Fa     14\n",
      "Name: ExterQual, dtype: int64\n",
      "Foundation\n",
      "PConc     647\n",
      "CBlock    634\n",
      "BrkTil    146\n",
      "Slab       24\n",
      "Stone       6\n",
      "Wood        3\n",
      "Name: Foundation, dtype: int64\n",
      "BsmtQual\n",
      "TA    686\n",
      "Gd    618\n",
      "Ex    121\n",
      "Fa     35\n",
      "Name: BsmtQual, dtype: int64\n",
      "BsmtExposure\n",
      "No    991\n",
      "Av    221\n",
      "Gd    134\n",
      "Mn    114\n",
      "Name: BsmtExposure, dtype: int64\n",
      "BsmtFinType1\n",
      "Unf    467\n",
      "GLQ    418\n",
      "ALQ    220\n",
      "BLQ    148\n",
      "Rec    133\n",
      "LwQ     74\n",
      "Name: BsmtFinType1, dtype: int64\n",
      "HeatingQC\n",
      "Ex    741\n",
      "TA    428\n",
      "Gd    241\n",
      "Fa     49\n",
      "Po      1\n",
      "Name: HeatingQC, dtype: int64\n",
      "KitchenQual\n",
      "TA    735\n",
      "Gd    586\n",
      "Ex    100\n",
      "Fa     39\n",
      "Name: KitchenQual, dtype: int64\n",
      "GarageType\n",
      "Attchd     951\n",
      "Detchd     387\n",
      "BuiltIn     88\n",
      "Basment     19\n",
      "CarPort      9\n",
      "2Types       6\n",
      "Name: GarageType, dtype: int64\n",
      "GarageFinish\n",
      "Unf    686\n",
      "RFn    422\n",
      "Fin    352\n",
      "Name: GarageFinish, dtype: int64\n"
     ]
    }
   ],
   "source": [
    "#list of categorical values and their counts\n",
    "x_dict = {}\n",
    "x_dict = { str(i):inp1[str(i)].value_counts() for i in inp1.select_dtypes(include='object') } \n",
    "for key, value in x_dict.items():\n",
    "    print(key)\n",
    "    print(value)"
   ]
  },
  {
   "cell_type": "code",
   "execution_count": 22,
   "id": "cb10ec61",
   "metadata": {},
   "outputs": [],
   "source": [
    "#replace the occurence of 10% and less with new value 'Others'\n",
    "cat_limit = 0.10*inp1.shape[0]\n",
    "for i in inp1.select_dtypes(include='object'):\n",
    "    cat_limit_list=[]\n",
    "    for value,count in inp1[str(i)].value_counts().items():\n",
    "        if count <= cat_limit:\n",
    "            cat_limit_list.append(str(value))\n",
    "    inp1[str(i)] = inp1[str(i)].apply(lambda x : 'Others' if x in cat_limit_list else x)"
   ]
  },
  {
   "cell_type": "markdown",
   "id": "c2f964a0",
   "metadata": {},
   "source": [
    "**3.2 Intermediate state of the categories within the categorical variables**"
   ]
  },
  {
   "cell_type": "code",
   "execution_count": 23,
   "id": "6801a4fd",
   "metadata": {},
   "outputs": [
    {
     "name": "stdout",
     "output_type": "stream",
     "text": [
      "MSSubClass\n",
      "Others    625\n",
      "20        536\n",
      "60        299\n",
      "Name: MSSubClass, dtype: int64\n",
      "MSZoning\n",
      "RL        1151\n",
      "RM         218\n",
      "Others      91\n",
      "Name: MSZoning, dtype: int64\n",
      "LotShape\n",
      "Reg       925\n",
      "IR1       484\n",
      "Others     51\n",
      "Name: LotShape, dtype: int64\n",
      "LotConfig\n",
      "Inside    1052\n",
      "Corner     263\n",
      "Others     145\n",
      "Name: LotConfig, dtype: int64\n",
      "Neighborhood\n",
      "Others     1085\n",
      "NAmes       225\n",
      "CollgCr     150\n",
      "Name: Neighborhood, dtype: int64\n",
      "HouseStyle\n",
      "1Story    726\n",
      "2Story    445\n",
      "1.5Fin    154\n",
      "Others    135\n",
      "Name: HouseStyle, dtype: int64\n",
      "OverallQual\n",
      "5         397\n",
      "6         374\n",
      "7         319\n",
      "Others    202\n",
      "8         168\n",
      "Name: OverallQual, dtype: int64\n",
      "OverallCond\n",
      "5         821\n",
      "6         252\n",
      "7         205\n",
      "Others    182\n",
      "Name: OverallCond, dtype: int64\n",
      "RoofStyle\n",
      "Gable     1141\n",
      "Hip        286\n",
      "Others      33\n",
      "Name: RoofStyle, dtype: int64\n",
      "Exterior1st\n",
      "VinylSd    515\n",
      "Others     297\n",
      "HdBoard    222\n",
      "MetalSd    220\n",
      "Wd Sdng    206\n",
      "Name: Exterior1st, dtype: int64\n",
      "Exterior2nd\n",
      "VinylSd    504\n",
      "Others     338\n",
      "MetalSd    214\n",
      "HdBoard    207\n",
      "Wd Sdng    197\n",
      "Name: Exterior2nd, dtype: int64\n",
      "ExterQual\n",
      "TA        906\n",
      "Gd        488\n",
      "Others     66\n",
      "Name: ExterQual, dtype: int64\n",
      "Foundation\n",
      "PConc     647\n",
      "CBlock    634\n",
      "Others    179\n",
      "Name: Foundation, dtype: int64\n",
      "BsmtQual\n",
      "TA        686\n",
      "Gd        618\n",
      "Others    156\n",
      "Name: BsmtQual, dtype: int64\n",
      "BsmtExposure\n",
      "No        991\n",
      "Others    248\n",
      "Av        221\n",
      "Name: BsmtExposure, dtype: int64\n",
      "BsmtFinType1\n",
      "Unf       467\n",
      "GLQ       418\n",
      "ALQ       220\n",
      "Others    207\n",
      "BLQ       148\n",
      "Name: BsmtFinType1, dtype: int64\n",
      "HeatingQC\n",
      "Ex        741\n",
      "TA        428\n",
      "Gd        241\n",
      "Others     50\n",
      "Name: HeatingQC, dtype: int64\n",
      "KitchenQual\n",
      "TA        735\n",
      "Gd        586\n",
      "Others    139\n",
      "Name: KitchenQual, dtype: int64\n",
      "GarageType\n",
      "Attchd    951\n",
      "Detchd    387\n",
      "Others    122\n",
      "Name: GarageType, dtype: int64\n",
      "GarageFinish\n",
      "Unf    686\n",
      "RFn    422\n",
      "Fin    352\n",
      "Name: GarageFinish, dtype: int64\n"
     ]
    }
   ],
   "source": [
    "#list of categorical values and their counts\n",
    "x_dict = {}\n",
    "x_dict = { str(i):inp1[str(i)].value_counts() for i in inp1.select_dtypes(include='object') } \n",
    "for key, value in x_dict.items():\n",
    "    print(key)\n",
    "    print(value)"
   ]
  },
  {
   "cell_type": "markdown",
   "id": "49daf3b9",
   "metadata": {},
   "source": [
    "**3.3 Map the categorical values into string values**"
   ]
  },
  {
   "cell_type": "code",
   "execution_count": 24,
   "id": "f01e0dbb",
   "metadata": {},
   "outputs": [],
   "source": [
    "#mapping to new values for easy understanding by checking with data dictionary\n",
    "inp1['MSSubClass'] = inp1['MSSubClass'].map({'20':'1_StoryNewAll', '60':'2_StoryNew', 'Others':'Others'})\n",
    "inp1['MSZoning'] = inp1['MSZoning'].map({'RL':'ResLowDensity', 'RM':'ResMedDensity', 'Others':'Others'})\n",
    "inp1['LotShape'] = inp1['LotShape'].map({'Reg':'Regular', 'IR1':'Slightly Irregular', 'Others':'Others'})\n",
    "inp1['Neighborhood'] = inp1['Neighborhood'].map({'NAmes':'Names', 'CollgCr':'College Creek', 'Others':'Others'})\n",
    "inp1['HouseStyle'] = inp1['HouseStyle'].map({'1Story':'1 Story', '2Story':'2 Story','1.5Fin':'1.5 StoryFin','Others':'Others'})\n",
    "inp1['OverallQual'] = inp1['OverallQual'].map({'5':'Avg', '6':'Above Avg','7':'Good','8':'Very Good' ,'Others':'Others'})\n",
    "inp1['OverallCond'] = inp1['OverallCond'].map({'5':'Avg', '6':'Above Avg','7':'Good','Others':'Others'})\n",
    "inp1['Exterior1st'] = inp1['Exterior1st'].map({'VinylSd':'VinylSiding', 'HdBoard':'HardBoard','MetalSd':'MetalSiding',\n",
    "                                               'Wd Sdng':'WoodSiding'})\n",
    "inp1['Exterior2nd'] = inp1['Exterior2nd'].map({'VinylSd':'VinylSiding', 'HdBoard':'HardBoard','MetalSd':'MetalSiding',\n",
    "                                               'Wd Sdng':'WoodSiding'})\n",
    "inp1['ExterQual'] = inp1['ExterQual'].map({'TA':'Typical', 'Gd':'Good', 'Others':'Others'})\n",
    "inp1['Foundation'] = inp1['Foundation'].map({'PConc':'PouredContrete', 'CBlock':'CinderBlock', 'Others':'Others'})\n",
    "inp1['BsmtQual'] = inp1['BsmtQual'].map({'TA':'Typical', 'Gd':'Good', 'Others':'Others'})\n",
    "inp1['BsmtExposure'] = inp1['BsmtExposure'].map({'No':'No', 'Av':'Avg', 'Others':'Others'})\n",
    "inp1['BsmtFinType1'] = inp1['BsmtFinType1'].map({'Unf':'Unfin', 'GLQ':'GoodLivQtr','ALQ':'AvgLivQtr',\n",
    "                                                 'BLQ':'BlwAvgLivQtr' ,'Others':'Others'})\n",
    "inp1['HeatingQC'] = inp1['HeatingQC'].map({'TA':'Typical', 'Gd':'Good', 'Others':'Others'})\n",
    "inp1['KitchenQual'] = inp1['KitchenQual'].map({'TA':'Typical', 'Gd':'Good', 'Others':'Others'})\n",
    "inp1['GarageType'] = inp1['GarageType'].map({'Attchd':'Attached', 'Detchd':'Detached', 'Others':'Others'})\n",
    "inp1['GarageFinish'] = inp1['GarageFinish'].map({'Unf':'UnFin', 'RFn':'RoughFin', 'Fin':'Fin'})"
   ]
  },
  {
   "cell_type": "code",
   "execution_count": 25,
   "id": "f6788c41",
   "metadata": {},
   "outputs": [
    {
     "name": "stdout",
     "output_type": "stream",
     "text": [
      "MSSubClass\n",
      "Others           625\n",
      "1_StoryNewAll    536\n",
      "2_StoryNew       299\n",
      "Name: MSSubClass, dtype: int64\n",
      "MSZoning\n",
      "ResLowDensity    1151\n",
      "ResMedDensity     218\n",
      "Others             91\n",
      "Name: MSZoning, dtype: int64\n",
      "LotShape\n",
      "Regular               925\n",
      "Slightly Irregular    484\n",
      "Others                 51\n",
      "Name: LotShape, dtype: int64\n",
      "LotConfig\n",
      "Inside    1052\n",
      "Corner     263\n",
      "Others     145\n",
      "Name: LotConfig, dtype: int64\n",
      "Neighborhood\n",
      "Others           1085\n",
      "Names             225\n",
      "College Creek     150\n",
      "Name: Neighborhood, dtype: int64\n",
      "HouseStyle\n",
      "1 Story         726\n",
      "2 Story         445\n",
      "1.5 StoryFin    154\n",
      "Others          135\n",
      "Name: HouseStyle, dtype: int64\n",
      "OverallQual\n",
      "Avg          397\n",
      "Above Avg    374\n",
      "Good         319\n",
      "Others       202\n",
      "Very Good    168\n",
      "Name: OverallQual, dtype: int64\n",
      "OverallCond\n",
      "Avg          821\n",
      "Above Avg    252\n",
      "Good         205\n",
      "Others       182\n",
      "Name: OverallCond, dtype: int64\n",
      "RoofStyle\n",
      "Gable     1141\n",
      "Hip        286\n",
      "Others      33\n",
      "Name: RoofStyle, dtype: int64\n",
      "Exterior1st\n",
      "VinylSiding    515\n",
      "HardBoard      222\n",
      "MetalSiding    220\n",
      "WoodSiding     206\n",
      "Name: Exterior1st, dtype: int64\n",
      "Exterior2nd\n",
      "VinylSiding    504\n",
      "MetalSiding    214\n",
      "HardBoard      207\n",
      "WoodSiding     197\n",
      "Name: Exterior2nd, dtype: int64\n",
      "ExterQual\n",
      "Typical    906\n",
      "Good       488\n",
      "Others      66\n",
      "Name: ExterQual, dtype: int64\n",
      "Foundation\n",
      "PouredContrete    647\n",
      "CinderBlock       634\n",
      "Others            179\n",
      "Name: Foundation, dtype: int64\n",
      "BsmtQual\n",
      "Typical    686\n",
      "Good       618\n",
      "Others     156\n",
      "Name: BsmtQual, dtype: int64\n",
      "BsmtExposure\n",
      "No        991\n",
      "Others    248\n",
      "Avg       221\n",
      "Name: BsmtExposure, dtype: int64\n",
      "BsmtFinType1\n",
      "Unfin           467\n",
      "GoodLivQtr      418\n",
      "AvgLivQtr       220\n",
      "Others          207\n",
      "BlwAvgLivQtr    148\n",
      "Name: BsmtFinType1, dtype: int64\n",
      "HeatingQC\n",
      "Typical    428\n",
      "Good       241\n",
      "Others      50\n",
      "Name: HeatingQC, dtype: int64\n",
      "KitchenQual\n",
      "Typical    735\n",
      "Good       586\n",
      "Others     139\n",
      "Name: KitchenQual, dtype: int64\n",
      "GarageType\n",
      "Attached    951\n",
      "Detached    387\n",
      "Others      122\n",
      "Name: GarageType, dtype: int64\n",
      "GarageFinish\n",
      "UnFin       686\n",
      "RoughFin    422\n",
      "Fin         352\n",
      "Name: GarageFinish, dtype: int64\n"
     ]
    }
   ],
   "source": [
    "#list of categorical values and their counts after mapping\n",
    "x_dict = {}\n",
    "x_dict = { str(i):inp1[str(i)].value_counts() for i in inp1.select_dtypes(include='object') } \n",
    "for key, value in x_dict.items():\n",
    "    print(key)\n",
    "    print(value)"
   ]
  },
  {
   "cell_type": "markdown",
   "id": "18bb1262",
   "metadata": {},
   "source": [
    "**4 Create derived metrics and drop the columns from which new metric is derived**"
   ]
  },
  {
   "cell_type": "markdown",
   "id": "8cf5a539",
   "metadata": {},
   "source": [
    "**4.1 MoSold, YrSold : join the 2 columns to derive a new metric with month and year**"
   ]
  },
  {
   "cell_type": "code",
   "execution_count": 26,
   "id": "5b56d8a9",
   "metadata": {
    "scrolled": true
   },
   "outputs": [],
   "source": [
    "inp1['mySold'] = inp1['YrSold'].astype('str') + '-' + inp1['MoSold'].astype('str')\n",
    "col_drop=[]\n",
    "col_drop.extend(['MoSold','YrSold'])"
   ]
  },
  {
   "cell_type": "code",
   "execution_count": 27,
   "id": "50f2ce2e",
   "metadata": {},
   "outputs": [],
   "source": [
    "#convert the year columns into datetime format for further manipulation\n",
    "inp1['YearBuilt']=inp1['YearBuilt'].apply(lambda x:pd.to_datetime(str(x),format='%Y'))\n",
    "inp1['YearRemodAdd']=inp1['YearRemodAdd'].apply(lambda x:pd.to_datetime(str(x),format='%Y'))\n",
    "\n",
    "inp1['GarageYrBlt']=inp1['GarageYrBlt'].astype('int64')\n",
    "inp1['GarageYrBlt']=inp1['GarageYrBlt'].apply(lambda x:pd.to_datetime(str(x),format='%Y') if x != 0 else 0)\n",
    "\n",
    "inp1['mySold']=inp1['mySold'].apply(lambda x:pd.to_datetime(str(x),format='%Y-%m'))"
   ]
  },
  {
   "cell_type": "markdown",
   "id": "553f5838",
   "metadata": {},
   "source": [
    "**4.2 Calculate age of property using YearBuilt, YearRemodAdd, GarageYrBlt & mySold**<br>\n",
    "The new metrics will have fractional years since the month when the property was sold is known."
   ]
  },
  {
   "cell_type": "code",
   "execution_count": 28,
   "id": "4d7aaca0",
   "metadata": {},
   "outputs": [
    {
     "data": {
      "text/html": [
       "<div>\n",
       "<style scoped>\n",
       "    .dataframe tbody tr th:only-of-type {\n",
       "        vertical-align: middle;\n",
       "    }\n",
       "\n",
       "    .dataframe tbody tr th {\n",
       "        vertical-align: top;\n",
       "    }\n",
       "\n",
       "    .dataframe thead th {\n",
       "        text-align: right;\n",
       "    }\n",
       "</style>\n",
       "<table border=\"1\" class=\"dataframe\">\n",
       "  <thead>\n",
       "    <tr style=\"text-align: right;\">\n",
       "      <th></th>\n",
       "      <th>YearBuilt</th>\n",
       "      <th>YearRemodAdd</th>\n",
       "      <th>mySold</th>\n",
       "      <th>GarageYrBlt</th>\n",
       "    </tr>\n",
       "  </thead>\n",
       "  <tbody>\n",
       "    <tr>\n",
       "      <th>0</th>\n",
       "      <td>2003-01-01</td>\n",
       "      <td>2003-01-01</td>\n",
       "      <td>2008-02-01</td>\n",
       "      <td>2003-01-01 00:00:00</td>\n",
       "    </tr>\n",
       "    <tr>\n",
       "      <th>1</th>\n",
       "      <td>1976-01-01</td>\n",
       "      <td>1976-01-01</td>\n",
       "      <td>2007-05-01</td>\n",
       "      <td>1976-01-01 00:00:00</td>\n",
       "    </tr>\n",
       "    <tr>\n",
       "      <th>2</th>\n",
       "      <td>2001-01-01</td>\n",
       "      <td>2002-01-01</td>\n",
       "      <td>2008-09-01</td>\n",
       "      <td>2001-01-01 00:00:00</td>\n",
       "    </tr>\n",
       "    <tr>\n",
       "      <th>3</th>\n",
       "      <td>1915-01-01</td>\n",
       "      <td>1970-01-01</td>\n",
       "      <td>2006-02-01</td>\n",
       "      <td>1998-01-01 00:00:00</td>\n",
       "    </tr>\n",
       "    <tr>\n",
       "      <th>4</th>\n",
       "      <td>2000-01-01</td>\n",
       "      <td>2000-01-01</td>\n",
       "      <td>2008-12-01</td>\n",
       "      <td>2000-01-01 00:00:00</td>\n",
       "    </tr>\n",
       "  </tbody>\n",
       "</table>\n",
       "</div>"
      ],
      "text/plain": [
       "   YearBuilt YearRemodAdd     mySold          GarageYrBlt\n",
       "0 2003-01-01   2003-01-01 2008-02-01  2003-01-01 00:00:00\n",
       "1 1976-01-01   1976-01-01 2007-05-01  1976-01-01 00:00:00\n",
       "2 2001-01-01   2002-01-01 2008-09-01  2001-01-01 00:00:00\n",
       "3 1915-01-01   1970-01-01 2006-02-01  1998-01-01 00:00:00\n",
       "4 2000-01-01   2000-01-01 2008-12-01  2000-01-01 00:00:00"
      ]
     },
     "execution_count": 28,
     "metadata": {},
     "output_type": "execute_result"
    }
   ],
   "source": [
    "#get an idea of how the dates look in comparision to each other\n",
    "inp1[['YearBuilt','YearRemodAdd','mySold','GarageYrBlt']].head()"
   ]
  },
  {
   "cell_type": "code",
   "execution_count": 29,
   "id": "6aed38d3",
   "metadata": {},
   "outputs": [],
   "source": [
    "#difference between year when built and year when sold in fractional years\n",
    "inp1['AgeBuiltYr'] = round((inp1['mySold'].dt.to_period('M').view(dtype='int64') \n",
    "                            - inp1['YearBuilt'].dt.to_period('M').view(dtype='int64'))/12,2)\n",
    "\n",
    "#difference between year remodelled and year sold in fractional years\n",
    "inp1['AgeRemodYr'] = inp1.apply(lambda x : 0 if x.YearBuilt==x.YearRemodAdd\n",
    "     else ( relativedelta.relativedelta(x.mySold,x.YearRemodAdd).years + \n",
    "           round((relativedelta.relativedelta(x.mySold,x.YearRemodAdd).months/12),2) ), axis=1 )\n",
    "\n",
    "#difference between year sold & garage built when garage built is non zero\n",
    "inp1['AgeGarageYr'] = inp1.apply(lambda x : 0 if x.GarageYrBlt == 0 \n",
    "                else ( relativedelta.relativedelta(x.mySold,x.GarageYrBlt).years + \n",
    "                round((relativedelta.relativedelta(x.mySold,x.GarageYrBlt).months/12),2) ), axis=1 )\n",
    "\n",
    "col_drop.extend(['YearBuilt','YearRemodAdd','mySold','GarageYrBlt'])"
   ]
  },
  {
   "cell_type": "code",
   "execution_count": 30,
   "id": "48d7de3e",
   "metadata": {},
   "outputs": [
    {
     "data": {
      "text/html": [
       "<div>\n",
       "<style scoped>\n",
       "    .dataframe tbody tr th:only-of-type {\n",
       "        vertical-align: middle;\n",
       "    }\n",
       "\n",
       "    .dataframe tbody tr th {\n",
       "        vertical-align: top;\n",
       "    }\n",
       "\n",
       "    .dataframe thead th {\n",
       "        text-align: right;\n",
       "    }\n",
       "</style>\n",
       "<table border=\"1\" class=\"dataframe\">\n",
       "  <thead>\n",
       "    <tr style=\"text-align: right;\">\n",
       "      <th></th>\n",
       "      <th>MSSubClass</th>\n",
       "      <th>MSZoning</th>\n",
       "      <th>LotFrontage</th>\n",
       "      <th>LotArea</th>\n",
       "      <th>LotShape</th>\n",
       "      <th>LotConfig</th>\n",
       "      <th>Neighborhood</th>\n",
       "      <th>HouseStyle</th>\n",
       "      <th>OverallQual</th>\n",
       "      <th>OverallCond</th>\n",
       "      <th>...</th>\n",
       "      <th>GarageFinish</th>\n",
       "      <th>GarageCars</th>\n",
       "      <th>GarageArea</th>\n",
       "      <th>MoSold</th>\n",
       "      <th>YrSold</th>\n",
       "      <th>SalePrice</th>\n",
       "      <th>mySold</th>\n",
       "      <th>AgeBuiltYr</th>\n",
       "      <th>AgeRemodYr</th>\n",
       "      <th>AgeGarageYr</th>\n",
       "    </tr>\n",
       "  </thead>\n",
       "  <tbody>\n",
       "    <tr>\n",
       "      <th>0</th>\n",
       "      <td>2_StoryNew</td>\n",
       "      <td>ResLowDensity</td>\n",
       "      <td>65</td>\n",
       "      <td>8450</td>\n",
       "      <td>Regular</td>\n",
       "      <td>Inside</td>\n",
       "      <td>College Creek</td>\n",
       "      <td>2 Story</td>\n",
       "      <td>Good</td>\n",
       "      <td>Avg</td>\n",
       "      <td>...</td>\n",
       "      <td>RoughFin</td>\n",
       "      <td>2</td>\n",
       "      <td>548</td>\n",
       "      <td>2</td>\n",
       "      <td>2008</td>\n",
       "      <td>208500</td>\n",
       "      <td>2008-02-01</td>\n",
       "      <td>5.08</td>\n",
       "      <td>0.00</td>\n",
       "      <td>5.08</td>\n",
       "    </tr>\n",
       "    <tr>\n",
       "      <th>1</th>\n",
       "      <td>1_StoryNewAll</td>\n",
       "      <td>ResLowDensity</td>\n",
       "      <td>80</td>\n",
       "      <td>9600</td>\n",
       "      <td>Regular</td>\n",
       "      <td>Others</td>\n",
       "      <td>Others</td>\n",
       "      <td>1 Story</td>\n",
       "      <td>Above Avg</td>\n",
       "      <td>Others</td>\n",
       "      <td>...</td>\n",
       "      <td>RoughFin</td>\n",
       "      <td>2</td>\n",
       "      <td>460</td>\n",
       "      <td>5</td>\n",
       "      <td>2007</td>\n",
       "      <td>181500</td>\n",
       "      <td>2007-05-01</td>\n",
       "      <td>31.33</td>\n",
       "      <td>0.00</td>\n",
       "      <td>31.33</td>\n",
       "    </tr>\n",
       "    <tr>\n",
       "      <th>2</th>\n",
       "      <td>2_StoryNew</td>\n",
       "      <td>ResLowDensity</td>\n",
       "      <td>68</td>\n",
       "      <td>11250</td>\n",
       "      <td>Slightly Irregular</td>\n",
       "      <td>Inside</td>\n",
       "      <td>College Creek</td>\n",
       "      <td>2 Story</td>\n",
       "      <td>Good</td>\n",
       "      <td>Avg</td>\n",
       "      <td>...</td>\n",
       "      <td>RoughFin</td>\n",
       "      <td>2</td>\n",
       "      <td>608</td>\n",
       "      <td>9</td>\n",
       "      <td>2008</td>\n",
       "      <td>223500</td>\n",
       "      <td>2008-09-01</td>\n",
       "      <td>7.67</td>\n",
       "      <td>6.67</td>\n",
       "      <td>7.67</td>\n",
       "    </tr>\n",
       "    <tr>\n",
       "      <th>3</th>\n",
       "      <td>Others</td>\n",
       "      <td>ResLowDensity</td>\n",
       "      <td>60</td>\n",
       "      <td>9550</td>\n",
       "      <td>Slightly Irregular</td>\n",
       "      <td>Corner</td>\n",
       "      <td>Others</td>\n",
       "      <td>2 Story</td>\n",
       "      <td>Good</td>\n",
       "      <td>Avg</td>\n",
       "      <td>...</td>\n",
       "      <td>UnFin</td>\n",
       "      <td>3</td>\n",
       "      <td>642</td>\n",
       "      <td>2</td>\n",
       "      <td>2006</td>\n",
       "      <td>140000</td>\n",
       "      <td>2006-02-01</td>\n",
       "      <td>91.08</td>\n",
       "      <td>36.08</td>\n",
       "      <td>8.08</td>\n",
       "    </tr>\n",
       "    <tr>\n",
       "      <th>4</th>\n",
       "      <td>2_StoryNew</td>\n",
       "      <td>ResLowDensity</td>\n",
       "      <td>84</td>\n",
       "      <td>14260</td>\n",
       "      <td>Slightly Irregular</td>\n",
       "      <td>Others</td>\n",
       "      <td>Others</td>\n",
       "      <td>2 Story</td>\n",
       "      <td>Very Good</td>\n",
       "      <td>Avg</td>\n",
       "      <td>...</td>\n",
       "      <td>RoughFin</td>\n",
       "      <td>3</td>\n",
       "      <td>836</td>\n",
       "      <td>12</td>\n",
       "      <td>2008</td>\n",
       "      <td>250000</td>\n",
       "      <td>2008-12-01</td>\n",
       "      <td>8.92</td>\n",
       "      <td>0.00</td>\n",
       "      <td>8.92</td>\n",
       "    </tr>\n",
       "  </tbody>\n",
       "</table>\n",
       "<p>5 rows × 42 columns</p>\n",
       "</div>"
      ],
      "text/plain": [
       "      MSSubClass       MSZoning  LotFrontage  LotArea            LotShape  \\\n",
       "0     2_StoryNew  ResLowDensity           65     8450             Regular   \n",
       "1  1_StoryNewAll  ResLowDensity           80     9600             Regular   \n",
       "2     2_StoryNew  ResLowDensity           68    11250  Slightly Irregular   \n",
       "3         Others  ResLowDensity           60     9550  Slightly Irregular   \n",
       "4     2_StoryNew  ResLowDensity           84    14260  Slightly Irregular   \n",
       "\n",
       "  LotConfig   Neighborhood HouseStyle OverallQual OverallCond  ...  \\\n",
       "0    Inside  College Creek    2 Story        Good         Avg  ...   \n",
       "1    Others         Others    1 Story   Above Avg      Others  ...   \n",
       "2    Inside  College Creek    2 Story        Good         Avg  ...   \n",
       "3    Corner         Others    2 Story        Good         Avg  ...   \n",
       "4    Others         Others    2 Story   Very Good         Avg  ...   \n",
       "\n",
       "  GarageFinish GarageCars GarageArea MoSold YrSold SalePrice     mySold  \\\n",
       "0     RoughFin          2        548      2   2008    208500 2008-02-01   \n",
       "1     RoughFin          2        460      5   2007    181500 2007-05-01   \n",
       "2     RoughFin          2        608      9   2008    223500 2008-09-01   \n",
       "3        UnFin          3        642      2   2006    140000 2006-02-01   \n",
       "4     RoughFin          3        836     12   2008    250000 2008-12-01   \n",
       "\n",
       "  AgeBuiltYr AgeRemodYr AgeGarageYr  \n",
       "0       5.08       0.00        5.08  \n",
       "1      31.33       0.00       31.33  \n",
       "2       7.67       6.67        7.67  \n",
       "3      91.08      36.08        8.08  \n",
       "4       8.92       0.00        8.92  \n",
       "\n",
       "[5 rows x 42 columns]"
      ]
     },
     "execution_count": 30,
     "metadata": {},
     "output_type": "execute_result"
    }
   ],
   "source": [
    "#check data set for the new metrics\n",
    "inp1.head()"
   ]
  },
  {
   "cell_type": "code",
   "execution_count": 31,
   "id": "a2ae96f8",
   "metadata": {},
   "outputs": [],
   "source": [
    "#drop columns\n",
    "inp1.drop(col_drop, axis=1, inplace=True)\n",
    "col_drop=[]"
   ]
  },
  {
   "cell_type": "code",
   "execution_count": 32,
   "id": "506f6b69",
   "metadata": {},
   "outputs": [
    {
     "name": "stdout",
     "output_type": "stream",
     "text": [
      "<class 'pandas.core.frame.DataFrame'>\n",
      "RangeIndex: 1460 entries, 0 to 1459\n",
      "Data columns (total 36 columns):\n",
      " #   Column        Non-Null Count  Dtype  \n",
      "---  ------        --------------  -----  \n",
      " 0   MSSubClass    1460 non-null   object \n",
      " 1   MSZoning      1460 non-null   object \n",
      " 2   LotFrontage   1460 non-null   int64  \n",
      " 3   LotArea       1460 non-null   int64  \n",
      " 4   LotShape      1460 non-null   object \n",
      " 5   LotConfig     1460 non-null   object \n",
      " 6   Neighborhood  1460 non-null   object \n",
      " 7   HouseStyle    1460 non-null   object \n",
      " 8   OverallQual   1460 non-null   object \n",
      " 9   OverallCond   1460 non-null   object \n",
      " 10  RoofStyle     1460 non-null   object \n",
      " 11  Exterior1st   1163 non-null   object \n",
      " 12  Exterior2nd   1122 non-null   object \n",
      " 13  ExterQual     1460 non-null   object \n",
      " 14  Foundation    1460 non-null   object \n",
      " 15  BsmtQual      1460 non-null   object \n",
      " 16  BsmtExposure  1460 non-null   object \n",
      " 17  BsmtFinType1  1460 non-null   object \n",
      " 18  BsmtUnfSF     1460 non-null   int64  \n",
      " 19  TotalBsmtSF   1460 non-null   int64  \n",
      " 20  HeatingQC     719 non-null    object \n",
      " 21  1stFlrSF      1460 non-null   int64  \n",
      " 22  GrLivArea     1460 non-null   int64  \n",
      " 23  FullBath      1460 non-null   int64  \n",
      " 24  BedroomAbvGr  1460 non-null   int64  \n",
      " 25  KitchenAbvGr  1460 non-null   int64  \n",
      " 26  KitchenQual   1460 non-null   object \n",
      " 27  TotRmsAbvGrd  1460 non-null   int64  \n",
      " 28  GarageType    1460 non-null   object \n",
      " 29  GarageFinish  1460 non-null   object \n",
      " 30  GarageCars    1460 non-null   int64  \n",
      " 31  GarageArea    1460 non-null   int64  \n",
      " 32  SalePrice     1460 non-null   int64  \n",
      " 33  AgeBuiltYr    1460 non-null   float64\n",
      " 34  AgeRemodYr    1460 non-null   float64\n",
      " 35  AgeGarageYr   1460 non-null   float64\n",
      "dtypes: float64(3), int64(13), object(20)\n",
      "memory usage: 410.8+ KB\n"
     ]
    }
   ],
   "source": [
    "#features after data cleaning & manipulation\n",
    "inp1.info()"
   ]
  },
  {
   "cell_type": "markdown",
   "id": "342560c3",
   "metadata": {},
   "source": [
    "**Result**<br>\n",
    "All data cleaning and manipulation is now complete. <br>\n",
    "There are no missing values in any of the features."
   ]
  },
  {
   "cell_type": "markdown",
   "id": "68a1abd1",
   "metadata": {},
   "source": [
    "### III. Expolatory Data Analysis"
   ]
  },
  {
   "cell_type": "markdown",
   "id": "90aa275f",
   "metadata": {},
   "source": [
    "**1. Find outliers within continuous values**"
   ]
  },
  {
   "cell_type": "code",
   "execution_count": 33,
   "id": "b1fbcf6d",
   "metadata": {},
   "outputs": [
    {
     "data": {
      "text/plain": [
       "[count    1460.000000\n",
       " mean       70.189041\n",
       " std        22.433083\n",
       " min        21.000000\n",
       " 25%        60.000000\n",
       " 50%        70.000000\n",
       " 75%        80.000000\n",
       " max       313.000000\n",
       " Name: LotFrontage, dtype: float64,\n",
       " count      1460.000000\n",
       " mean      10516.828082\n",
       " std        9981.264932\n",
       " min        1300.000000\n",
       " 25%        7553.500000\n",
       " 50%        9478.500000\n",
       " 75%       11601.500000\n",
       " max      215245.000000\n",
       " Name: LotArea, dtype: float64,\n",
       " count    1460.000000\n",
       " mean      567.240411\n",
       " std       441.866955\n",
       " min         0.000000\n",
       " 25%       223.000000\n",
       " 50%       477.500000\n",
       " 75%       808.000000\n",
       " max      2336.000000\n",
       " Name: BsmtUnfSF, dtype: float64,\n",
       " count    1460.000000\n",
       " mean     1057.429452\n",
       " std       438.705324\n",
       " min         0.000000\n",
       " 25%       795.750000\n",
       " 50%       991.500000\n",
       " 75%      1298.250000\n",
       " max      6110.000000\n",
       " Name: TotalBsmtSF, dtype: float64,\n",
       " count    1460.000000\n",
       " mean     1162.626712\n",
       " std       386.587738\n",
       " min       334.000000\n",
       " 25%       882.000000\n",
       " 50%      1087.000000\n",
       " 75%      1391.250000\n",
       " max      4692.000000\n",
       " Name: 1stFlrSF, dtype: float64,\n",
       " count    1460.000000\n",
       " mean     1515.463699\n",
       " std       525.480383\n",
       " min       334.000000\n",
       " 25%      1129.500000\n",
       " 50%      1464.000000\n",
       " 75%      1776.750000\n",
       " max      5642.000000\n",
       " Name: GrLivArea, dtype: float64,\n",
       " count    1460.000000\n",
       " mean        1.565068\n",
       " std         0.550916\n",
       " min         0.000000\n",
       " 25%         1.000000\n",
       " 50%         2.000000\n",
       " 75%         2.000000\n",
       " max         3.000000\n",
       " Name: FullBath, dtype: float64,\n",
       " count    1460.000000\n",
       " mean        2.866438\n",
       " std         0.815778\n",
       " min         0.000000\n",
       " 25%         2.000000\n",
       " 50%         3.000000\n",
       " 75%         3.000000\n",
       " max         8.000000\n",
       " Name: BedroomAbvGr, dtype: float64,\n",
       " count    1460.000000\n",
       " mean        1.046575\n",
       " std         0.220338\n",
       " min         0.000000\n",
       " 25%         1.000000\n",
       " 50%         1.000000\n",
       " 75%         1.000000\n",
       " max         3.000000\n",
       " Name: KitchenAbvGr, dtype: float64,\n",
       " count    1460.000000\n",
       " mean        6.517808\n",
       " std         1.625393\n",
       " min         2.000000\n",
       " 25%         5.000000\n",
       " 50%         6.000000\n",
       " 75%         7.000000\n",
       " max        14.000000\n",
       " Name: TotRmsAbvGrd, dtype: float64,\n",
       " count    1460.000000\n",
       " mean        1.767123\n",
       " std         0.747315\n",
       " min         0.000000\n",
       " 25%         1.000000\n",
       " 50%         2.000000\n",
       " 75%         2.000000\n",
       " max         4.000000\n",
       " Name: GarageCars, dtype: float64,\n",
       " count    1460.000000\n",
       " mean      472.980137\n",
       " std       213.804841\n",
       " min         0.000000\n",
       " 25%       334.500000\n",
       " 50%       480.000000\n",
       " 75%       576.000000\n",
       " max      1418.000000\n",
       " Name: GarageArea, dtype: float64,\n",
       " count      1460.000000\n",
       " mean     180921.195890\n",
       " std       79442.502883\n",
       " min       34900.000000\n",
       " 25%      129975.000000\n",
       " 50%      163000.000000\n",
       " 75%      214000.000000\n",
       " max      755000.000000\n",
       " Name: SalePrice, dtype: float64,\n",
       " count    1460.000000\n",
       " mean       36.991493\n",
       " std        30.246736\n",
       " min         0.000000\n",
       " 25%         8.147500\n",
       " 50%        35.420000\n",
       " 75%        54.830000\n",
       " max       136.920000\n",
       " Name: AgeBuiltYr, dtype: float64,\n",
       " count    1460.000000\n",
       " mean       10.306021\n",
       " std        18.751792\n",
       " min        -0.250000\n",
       " 25%         0.000000\n",
       " 50%         0.000000\n",
       " 75%        10.520000\n",
       " max        60.500000\n",
       " Name: AgeRemodYr, dtype: float64,\n",
       " count    1460.000000\n",
       " mean       28.100034\n",
       " std        24.975881\n",
       " min         0.000000\n",
       " 25%         4.897500\n",
       " 50%        24.000000\n",
       " 75%        46.190000\n",
       " max       107.830000\n",
       " Name: AgeGarageYr, dtype: float64]"
      ]
     },
     "execution_count": 33,
     "metadata": {},
     "output_type": "execute_result"
    }
   ],
   "source": [
    "#find the statistical values of the continuous values \n",
    "[inp1[str(i)].describe() for i in inp1.select_dtypes(exclude='object')]"
   ]
  },
  {
   "cell_type": "markdown",
   "id": "bbfc35fb",
   "metadata": {},
   "source": [
    "**Observation**<br>\n",
    "Cursory view of the above table gives following features which may have outliers:<br>\n",
    "*LotFrontage,LotArea,TotalBsmtSF,1stFlrSF,GrLivArea,GarageArea,SalePrice,AgeBuiltYr,AgeRemodYr,AgeGarageYr*<br>\n",
    "Therefore plot boxplot for each of the features to check further."
   ]
  },
  {
   "cell_type": "code",
   "execution_count": 34,
   "id": "7fee7aaf",
   "metadata": {
    "scrolled": true
   },
   "outputs": [
    {
     "data": {
      "image/png": "[encoded data removed]",
      "text/plain": [
       "<Figure size 2000x2500 with 10 Axes>"
      ]
     },
     "metadata": {},
     "output_type": "display_data"
    }
   ],
   "source": [
    "plt.figure(figsize=(20,25))\n",
    "x_list = []\n",
    "x_list.extend(['LotFrontage','LotArea','TotalBsmtSF','1stFlrSF','GrLivArea','GarageArea','SalePrice','AgeBuiltYr',\n",
    "               'AgeRemodYr','AgeGarageYr'])\n",
    "p=1\n",
    "for i in x_list:\n",
    "    plt.subplot(5,2,p)\n",
    "    plt.boxplot(inp1[str(i)])\n",
    "    plt.title(str(i),fontdict={'fontsize':14,'fontweight':5,'color':'Red'})\n",
    "    p += 1\n",
    "\n",
    "plt.show()"
   ]
  },
  {
   "cell_type": "markdown",
   "id": "3e974a1c",
   "metadata": {},
   "source": [
    "**Observation**<br>\n",
    "There are clear indications of outliers for features LotFrontage, LotArea, TotalBsmtSF, 1stFlrSF, GrLivArea, GarageArea and SalePrice while the remaining features have continous values among the outliers.\n",
    "Clearly there outliers can skew further data analysis, however the dataset provided is quite low, therefore\n",
    "try to minimize the expense of removing the outliers as much as possible."
   ]
  },
  {
   "cell_type": "code",
   "execution_count": 35,
   "id": "60787362",
   "metadata": {},
   "outputs": [
    {
     "data": {
      "text/plain": [
       "(1381, 36)"
      ]
     },
     "execution_count": 35,
     "metadata": {},
     "output_type": "execute_result"
    }
   ],
   "source": [
    "#copy into new data set; since not all conditions will satisfy the criteria to remove outliers, each feature has been \n",
    "#tackled separately\n",
    "\n",
    "inp2 = inp1.copy()\n",
    "\n",
    "inp2 = inp2[inp2['LotFrontage']<140]\n",
    "inp2 = inp2[inp2['LotArea']<20000]\n",
    "inp2 = inp2[inp2['TotalBsmtSF']<2300]\n",
    "inp2 = inp2[inp2['1stFlrSF']<2300]\n",
    "inp2 = inp2[inp2['GrLivArea']<3200]\n",
    "inp2 = inp2[inp2['GarageArea']<1100]\n",
    "inp2 = inp2[inp2['SalePrice']<500000]\n",
    "\n",
    "inp2.shape"
   ]
  },
  {
   "cell_type": "code",
   "execution_count": 36,
   "id": "ee663e0b",
   "metadata": {},
   "outputs": [
    {
     "name": "stdout",
     "output_type": "stream",
     "text": [
      "Number of observations dropped due to outliers : 79\n"
     ]
    }
   ],
   "source": [
    "print('Number of observations dropped due to outliers :',inp1.shape[0]-inp2.shape[0])"
   ]
  },
  {
   "cell_type": "code",
   "execution_count": 37,
   "id": "a9a64962",
   "metadata": {},
   "outputs": [
    {
     "data": {
      "image/png": "[encoded data removed]",
      "text/plain": [
       "<Figure size 2000x2500 with 10 Axes>"
      ]
     },
     "metadata": {},
     "output_type": "display_data"
    }
   ],
   "source": [
    "#plot the boxplots to determine if removing outliers makes the plots look good\n",
    "plt.figure(figsize=(20,25))\n",
    "p=1\n",
    "for i in x_list:\n",
    "    plt.subplot(5,2,p)\n",
    "    plt.boxplot(inp2[str(i)])\n",
    "    plt.title(str(i),fontdict={'fontsize':14,'fontweight':5,'color':'Blue'})\n",
    "    p += 1\n",
    "\n",
    "plt.show()"
   ]
  },
  {
   "cell_type": "markdown",
   "id": "6c255dc4",
   "metadata": {},
   "source": [
    "**Observation**<br>\n",
    "Boxplots now look better after removing the outliers and there are continuous running datapoints beyond the upper whiskers of the plot.<br>\n",
    "Since only 79 observations were dropped from a total of 1460 total observations, this is still good enough to proceed further.\n",
    "However, let us check the percentiles to further confirm this."
   ]
  },
  {
   "cell_type": "markdown",
   "id": "fdd99793",
   "metadata": {},
   "source": [
    "**Action**<br>\n",
    "Find the key perctiles for the notes features above to confirm whether the values are continuous."
   ]
  },
  {
   "cell_type": "code",
   "execution_count": 38,
   "id": "60f8a308",
   "metadata": {},
   "outputs": [
    {
     "data": {
      "text/html": [
       "<div>\n",
       "<style scoped>\n",
       "    .dataframe tbody tr th:only-of-type {\n",
       "        vertical-align: middle;\n",
       "    }\n",
       "\n",
       "    .dataframe tbody tr th {\n",
       "        vertical-align: top;\n",
       "    }\n",
       "\n",
       "    .dataframe thead th {\n",
       "        text-align: right;\n",
       "    }\n",
       "</style>\n",
       "<table border=\"1\" class=\"dataframe\">\n",
       "  <thead>\n",
       "    <tr style=\"text-align: right;\">\n",
       "      <th></th>\n",
       "      <th>Feature</th>\n",
       "      <th>0.5</th>\n",
       "      <th>0.75</th>\n",
       "      <th>0.90</th>\n",
       "      <th>0.95</th>\n",
       "      <th>0.97</th>\n",
       "      <th>0.98</th>\n",
       "      <th>0.99</th>\n",
       "    </tr>\n",
       "  </thead>\n",
       "  <tbody>\n",
       "    <tr>\n",
       "      <th>0</th>\n",
       "      <td>LotFrontage</td>\n",
       "      <td>70.00</td>\n",
       "      <td>80.00</td>\n",
       "      <td>90.00</td>\n",
       "      <td>100.00</td>\n",
       "      <td>107.00</td>\n",
       "      <td>110.40</td>\n",
       "      <td>121.00</td>\n",
       "    </tr>\n",
       "    <tr>\n",
       "      <th>1</th>\n",
       "      <td>LotArea</td>\n",
       "      <td>9245.00</td>\n",
       "      <td>11207.00</td>\n",
       "      <td>13450.00</td>\n",
       "      <td>14774.00</td>\n",
       "      <td>16117.80</td>\n",
       "      <td>16651.80</td>\n",
       "      <td>17510.80</td>\n",
       "    </tr>\n",
       "    <tr>\n",
       "      <th>2</th>\n",
       "      <td>TotalBsmtSF</td>\n",
       "      <td>978.00</td>\n",
       "      <td>1261.00</td>\n",
       "      <td>1568.00</td>\n",
       "      <td>1709.00</td>\n",
       "      <td>1800.00</td>\n",
       "      <td>1868.40</td>\n",
       "      <td>1981.20</td>\n",
       "    </tr>\n",
       "    <tr>\n",
       "      <th>3</th>\n",
       "      <td>1stFlrSF</td>\n",
       "      <td>1072.00</td>\n",
       "      <td>1352.00</td>\n",
       "      <td>1640.00</td>\n",
       "      <td>1742.00</td>\n",
       "      <td>1844.00</td>\n",
       "      <td>1941.60</td>\n",
       "      <td>2050.60</td>\n",
       "    </tr>\n",
       "    <tr>\n",
       "      <th>4</th>\n",
       "      <td>GrLivArea</td>\n",
       "      <td>1440.00</td>\n",
       "      <td>1738.00</td>\n",
       "      <td>2090.00</td>\n",
       "      <td>2340.00</td>\n",
       "      <td>2520.60</td>\n",
       "      <td>2616.40</td>\n",
       "      <td>2727.60</td>\n",
       "    </tr>\n",
       "    <tr>\n",
       "      <th>5</th>\n",
       "      <td>GarageArea</td>\n",
       "      <td>473.00</td>\n",
       "      <td>576.00</td>\n",
       "      <td>732.00</td>\n",
       "      <td>836.00</td>\n",
       "      <td>869.20</td>\n",
       "      <td>888.40</td>\n",
       "      <td>924.00</td>\n",
       "    </tr>\n",
       "    <tr>\n",
       "      <th>6</th>\n",
       "      <td>SalePrice</td>\n",
       "      <td>159950.00</td>\n",
       "      <td>207000.00</td>\n",
       "      <td>269790.00</td>\n",
       "      <td>315500.00</td>\n",
       "      <td>338850.00</td>\n",
       "      <td>364069.00</td>\n",
       "      <td>394469.00</td>\n",
       "    </tr>\n",
       "    <tr>\n",
       "      <th>7</th>\n",
       "      <td>AgeBuiltYr</td>\n",
       "      <td>35.42</td>\n",
       "      <td>55.25</td>\n",
       "      <td>83.92</td>\n",
       "      <td>91.25</td>\n",
       "      <td>96.90</td>\n",
       "      <td>100.02</td>\n",
       "      <td>110.07</td>\n",
       "    </tr>\n",
       "    <tr>\n",
       "      <th>8</th>\n",
       "      <td>AgeRemodYr</td>\n",
       "      <td>0.00</td>\n",
       "      <td>10.50</td>\n",
       "      <td>56.50</td>\n",
       "      <td>58.25</td>\n",
       "      <td>59.33</td>\n",
       "      <td>59.58</td>\n",
       "      <td>60.19</td>\n",
       "    </tr>\n",
       "    <tr>\n",
       "      <th>9</th>\n",
       "      <td>AgeGarageYr</td>\n",
       "      <td>24.42</td>\n",
       "      <td>46.25</td>\n",
       "      <td>61.75</td>\n",
       "      <td>78.42</td>\n",
       "      <td>83.72</td>\n",
       "      <td>87.13</td>\n",
       "      <td>90.36</td>\n",
       "    </tr>\n",
       "  </tbody>\n",
       "</table>\n",
       "</div>"
      ],
      "text/plain": [
       "       Feature        0.5       0.75       0.90       0.95       0.97  \\\n",
       "0  LotFrontage      70.00      80.00      90.00     100.00     107.00   \n",
       "1      LotArea    9245.00   11207.00   13450.00   14774.00   16117.80   \n",
       "2  TotalBsmtSF     978.00    1261.00    1568.00    1709.00    1800.00   \n",
       "3     1stFlrSF    1072.00    1352.00    1640.00    1742.00    1844.00   \n",
       "4    GrLivArea    1440.00    1738.00    2090.00    2340.00    2520.60   \n",
       "5   GarageArea     473.00     576.00     732.00     836.00     869.20   \n",
       "6    SalePrice  159950.00  207000.00  269790.00  315500.00  338850.00   \n",
       "7   AgeBuiltYr      35.42      55.25      83.92      91.25      96.90   \n",
       "8   AgeRemodYr       0.00      10.50      56.50      58.25      59.33   \n",
       "9  AgeGarageYr      24.42      46.25      61.75      78.42      83.72   \n",
       "\n",
       "        0.98       0.99  \n",
       "0     110.40     121.00  \n",
       "1   16651.80   17510.80  \n",
       "2    1868.40    1981.20  \n",
       "3    1941.60    2050.60  \n",
       "4    2616.40    2727.60  \n",
       "5     888.40     924.00  \n",
       "6  364069.00  394469.00  \n",
       "7     100.02     110.07  \n",
       "8      59.58      60.19  \n",
       "9      87.13      90.36  "
      ]
     },
     "execution_count": 38,
     "metadata": {},
     "output_type": "execute_result"
    }
   ],
   "source": [
    "#create dataframe based on percentiles to further check for outliers\n",
    "y_list=[]\n",
    "z_list=[]\n",
    "q_list=[0.5, 0.75,0.90, 0.95, 0.97,0.98, 0.99]\n",
    "for i in x_list:\n",
    "    z_list=[]\n",
    "    z_list.append(str(i))\n",
    "    for j in q_list:\n",
    "        z_list.append(round(inp2[str(i)].quantile(j),2))\n",
    "    y_list.append(z_list)\n",
    "\n",
    "y_df = pd.DataFrame(y_list,columns=['Feature','0.5','0.75','0.90','0.95','0.97','0.98','0.99'])\n",
    "y_df"
   ]
  },
  {
   "cell_type": "markdown",
   "id": "4b244624",
   "metadata": {},
   "source": [
    "**Observations**<br>\n",
    "Now we see all the features having continuous values and the boxplot looks good too. Assumption is not to remove any further\n",
    "observations since the dataset is quite low and we may lose any pattern hidden in the provided dataset"
   ]
  },
  {
   "cell_type": "markdown",
   "id": "880688fe",
   "metadata": {},
   "source": [
    "**2. Correlation matrix in a heatmap**"
   ]
  },
  {
   "cell_type": "code",
   "execution_count": 39,
   "id": "74ca81b3",
   "metadata": {},
   "outputs": [
    {
     "data": {
      "image/png": "[encoded data removed]",
      "text/plain": [
       "<Figure size 1500x700 with 2 Axes>"
      ]
     },
     "metadata": {},
     "output_type": "display_data"
    }
   ],
   "source": [
    "plt.figure(figsize=(15,7))\n",
    "sns.heatmap(inp2.corr(), annot=True, cmap='Greens')\n",
    "plt.title('Correlation of continuous features',fontdict={'fontsize':18,'fontweight':5,'color':'Green'})\n",
    "plt.show()"
   ]
  },
  {
   "cell_type": "markdown",
   "id": "aefd106e",
   "metadata": {},
   "source": [
    "**Observation**<br>\n",
    "1. High correlation between dependent features *Sales Price* and independent features *TotalBsmtSF, 1stFlrSF, GrLivArea, \n",
    "FullBath, TotRmsAbvGrd,GarageCars & GarageArea*.<br>\n",
    "2. Strong correlation between independent features *TotalBsmtSF & 1stFlrSF, 1stFlrSF & GrLivArea, GrLivArea & TotalRmsAbvGrd,\n",
    "GrLivArea & FullBath, BedroomAbvGr & TotRmsAbvGrd, GarageCars & GarageArea, AgeBuiltYr & AgeGarageYr , \n",
    "AgeBuiltYr & AgeRemodYr*. This implies multicollinearity which we will confirm during model building.<br>\n",
    "3. Correlation between the years and salesprice is negatively correlated.<br>\n",
    "4. There is a negative correlation between the age of the properties esp from when it is built"
   ]
  },
  {
   "cell_type": "markdown",
   "id": "76dc2229",
   "metadata": {},
   "source": [
    "**3. Visual comparison between dependent & independent variables**"
   ]
  },
  {
   "cell_type": "markdown",
   "id": "d405b228",
   "metadata": {},
   "source": [
    "**3.1 Pairplot of dependent & indepedent features**"
   ]
  },
  {
   "cell_type": "code",
   "execution_count": null,
   "id": "03e21b4c",
   "metadata": {},
   "outputs": [],
   "source": [
    "sns.set(palette='bwr')\n",
    "g=sns.pairplot(inp2, x_vars=['TotalBsmtSF','1stFlrSF', 'GrLivArea','FullBath','GarageCars','GarageArea'],\n",
    "                 y_vars=['SalePrice','1stFlrSF','GrLivArea'])\n",
    "g.fig.suptitle('Relationship between dependent & independent features',y=1,fontsize=15,color='Blue')\n",
    "plt.show()"
   ]
  },
  {
   "cell_type": "markdown",
   "id": "1468a92f",
   "metadata": {},
   "source": [
    "**Observation**<br>\n",
    "*Sales price*\n",
    "1. Positive correlation with TotalBsmtSf, 1stFlrSF and GrLivArea. 1stFlrSF is part of GrLivArea.<br>\n",
    "2. Majority of the purchases are for 2 or 3 FullBath with a slight increase in sales price with increase in Full Bath.<br>\n",
    "3. Maximum sales are for properties having a capacity of 3 garage cars. There is an increasing trend except for those \n",
    "properties with 4 garage cars.<br>\n",
    "4. Positive correlation with GarageArea.<nr>\n",
    "\n",
    "*1stFlrSF*<br>\n",
    "1. Strong positive correlation with TotalBsmtFS & GrLivArea.<br>\n",
    "2. Slight positive correlation with GarageArea.<br>\n",
    "\n",
    "*GrLivArea*\n",
    "1. Strong positive correlation with TotalBsmtFS & 1stFlrSf.<br>\n",
    "2. Slight positive correlation with GarageArea."
   ]
  },
  {
   "cell_type": "markdown",
   "id": "908b3b77",
   "metadata": {},
   "source": [
    "**3.2 Scatter plot between numerical independent features**"
   ]
  },
  {
   "cell_type": "code",
   "execution_count": null,
   "id": "f79a9b26",
   "metadata": {
    "scrolled": true
   },
   "outputs": [],
   "source": [
    "sns.set(palette='Set2')\n",
    "plt.figure(figsize=(17,9))\n",
    "plt.suptitle('Relationships within independent features',fontsize=25,color='Green')\n",
    "\n",
    "plt.subplot(2,3,1)\n",
    "sns.scatterplot(x=inp2['GarageArea'], y=inp2['GarageCars'])\n",
    "\n",
    "plt.subplot(2,3,2)\n",
    "sns.scatterplot(x=inp2['AgeBuiltYr'], y=inp2['AgeGarageYr'])\n",
    "\n",
    "plt.subplot(2,3,3)\n",
    "sns.scatterplot(x=inp2['TotRmsAbvGrd'], y=inp2['GrLivArea'])\n",
    "\n",
    "plt.subplot(2,3,4)\n",
    "sns.scatterplot(x=inp2['TotRmsAbvGrd'], y=inp2['BedroomAbvGr'])\n",
    "\n",
    "plt.subplot(2,3,5)\n",
    "sns.scatterplot(x=inp2['1stFlrSF'], y=inp2['TotalBsmtSF'])\n",
    "\n",
    "plt.show()"
   ]
  },
  {
   "cell_type": "markdown",
   "id": "0f6cbab3",
   "metadata": {},
   "source": [
    "**Observation**<br>\n",
    "1. Even though garage area increases, the number of cars does not necessarily increase.<br>\n",
    "2. Steady increase in the age of when the property was built and the year when garage was built.<br>\n",
    "3. Steady increase when number of rooms increases as the property also increases.<br>\n",
    "4. As the total rooms increases, there is a guarantee that the number of bedrooms also increases.<br>\n",
    "5. There is a positive relation between the total basement area to the first floor surface area."
   ]
  },
  {
   "cell_type": "markdown",
   "id": "d35e7755",
   "metadata": {},
   "source": [
    "**4. Relationship between categorial features and sales price**"
   ]
  },
  {
   "cell_type": "markdown",
   "id": "a33c6d38",
   "metadata": {},
   "source": [
    "**4.1 Relation between categorical features & the number of sales in each category**"
   ]
  },
  {
   "cell_type": "code",
   "execution_count": null,
   "id": "da8af08b",
   "metadata": {},
   "outputs": [],
   "source": [
    "#bar chart - numerical vs categorical\n",
    "p=1\n",
    "plt.figure(figsize=(30,80))\n",
    "for col in x_dict.keys():\n",
    "    plt.subplot(11,2,p)\n",
    "    sns.countplot(inp2, x=str(col), palette='Spectral_r')\n",
    "    plt.title(str(col),fontdict={'fontsize':14,'fontweight':10,'color':'Green'})    \n",
    "    p += 1\n",
    "    \n",
    "plt.show()"
   ]
  },
  {
   "cell_type": "markdown",
   "id": "02c80944",
   "metadata": {},
   "source": [
    "**Observations**<br>\n",
    "1. Majority of sales were of type Others for MSSubClass with least for type 2_StoryNew.<br>\n",
    "2. Majority of sales within the MSZoning is for properties with low density population while least for for all other types.<br>\n",
    "3. Regular lot shape sizes are strongly preferable over all other types.<br>\n",
    "4. Inside lot config is preferred strongly over all other types.<br>\n",
    "5. Neighbourhoods besides College Creek & Names are very strongly preferred over all other types of neighbourhoods.<br>\n",
    "6. 1 story house styles have higher demand in comparison with the remaining house styles.<br>\n",
    "7. Majority of the properties sold either had a over quality of Average followred by Above Average followed closely by \n",
    "quality type Good.\n",
    "8. However, overwhelming number of sales were for properties of overall condition of type Average.<br>\n",
    "9. Overwhelming sales were for Gable type pf roof style.<br>\n",
    "10. Vinyl siding was the most preferred option for the external covering of the house whether be it first or second coating.\n",
    "Remaining types were on much lower scale and almost equivalent.<br>\n",
    "11. As such, these properties with Vinyl siding were of typical quality. <br>\n",
    "12. Purchasers did not distinguish demand between foundations consisting of poured concrete or cinder blocks. <br>\n",
    "13. Basement quality tended to be more of Typical or Good quality.<br>\n",
    "14. Majority of the properties did not have any exposure from the basement towards a garden or a walk out.<br>\n",
    "15. There is clear demand for basements which are unfinished or having good living quarters.<br>\n",
    "16. Clear demand for heating which are of typical quality.<br>\n",
    "17. Kitchen too were of either Typical or Good quality.<br>\n",
    "18. There is a clear demand for garages which are attached to the property.<br>\n",
    "19. Majority of the properties sold had unfinished interior of the garages.<br>"
   ]
  },
  {
   "cell_type": "markdown",
   "id": "3d5a575f",
   "metadata": {},
   "source": [
    "**4.2 Relationship between the spread of the sales prices across the categories**"
   ]
  },
  {
   "cell_type": "code",
   "execution_count": null,
   "id": "a65b54a9",
   "metadata": {},
   "outputs": [],
   "source": [
    "#boxplot - numerical vs categorical\n",
    "p=1\n",
    "fig=plt.figure(figsize=(30,80))\n",
    "for col in x_dict.keys():\n",
    "    plt.subplot(11,2,p)\n",
    "    sns.boxplot(x=inp2[str(col)], y=inp2['SalePrice'], palette='jet_r')\n",
    "    plt.title(str(col),fontdict={'fontsize':14,'fontweight':10,'color':'Green'})    \n",
    "    p += 1\n",
    "\n",
    "plt.show()"
   ]
  },
  {
   "cell_type": "markdown",
   "id": "3bedddce",
   "metadata": {},
   "source": [
    "**Observations**<br>\n",
    "*Average sales price in the range of 100k-400k:*<br>\n",
    "1. 2 story properties which are new generally are sold in this range.<br>\n",
    "2. Zones belong to low density or other residentials types are within this range.<br>\n",
    "3. Slightly irregular properties have varied sales prices.<br>\n",
    "4. All categories of lotconfig belong here.<br>\n",
    "5. All categories of Neighbourhood lie here with Others having the vast range of values while Cottage Creek has higher \n",
    "sales price than the rest.<br>\n",
    "6. House style of type 2 story has the highest cost overlapping on the lower end with 2 stories.<br>\n",
    "7. Very good overall quality of the properties is in the upper end of this region which is highest among all types while \n",
    "Other types have a large variation of the sale price.<br>\n",
    "8. Average overall condition of the properties has the highest and most varied variance of sales price.<br>\n",
    "9. Hip roof style has the highest and most sales price variance among all its categories.<br>\n",
    "10. Vinyl siding has the highest sales price.<br>\n",
    "11. External quality for type Others is the highest with highest variance.<br>\n",
    "12. Pourced Concrete has the highest cost among the rest.<br>\n",
    "13. BsmtQual for type Others is highest and has highest variance.<br>\n",
    "14. Sales price for BsmtExposure for types others & Avg have very similar spread.<br>\n",
    "15. Good living quarters for basements have the highest sales price and much variation is its sales price. <br>\n",
    "16. KitchenQual of type Others have the highest sales price with most variation.<br>\n",
    "17. Garages which are attached have a lower sales price than those which are of Other types.<br>\n",
    "18. Garages which are finished have the highest sales prices.<br>\n",
    "\n",
    "*Low sales price(below 100k)*\n",
    "1. HeatingQC of type Others mostly belong in this group.<br>\n",
    "\n",
    "**Overall Observations**<br>\n",
    "*1. MSSubClass*<br>\n",
    "Even though majority of the sales are for type Others, they had the least selling price while the demand for 2 story new \n",
    "properties maybe less but it is definitely more pricier than other property types.<br>\n",
    "*2. MSZoning*<br>\n",
    "High demand for low density residentials area are sold within 120k-210k.<br>\n",
    "*3. LotShape*<br>\n",
    "Regular lot shapes have high demand and have least sales prices compared to rest.<br>\n",
    "*4. LotConfig*<br>\n",
    "Sale prices are not affected by the LotConfig types.<br>\n",
    "*5.Neighbourhood*<br>\n",
    "While demand for type Others is high, it also has a wide range of sales price.<br>\n",
    "*6. HouseStype*<br>\n",
    "Demand for 1 story is very high, but its cost is almost similar to the 2 story on it's lower leg.<br>\n",
    "*7. OverQual*<br>\n",
    "Demand for Above average & average properties have much lower sales price compared to the property with Very Good quality.<br>\n",
    "*8. OverCond*<br>\n",
    "Demand for the average overall condition translates to highest sales price among its categories.<br>\n",
    "*9. RoofStyle*<br>\n",
    "Gable has the highest demand and is the one with the lowest sale price and its variance.<br>\n",
    "*10. External1st & External2nd*<br>\n",
    "Demand and cost of vinyl siding is very high compared to rest.<br>\n",
    "*11. ExterQual*<br>\n",
    "Demand for Typical type of external quality has the lowest sales price.<br>\n",
    "*12. Foundation*<br>\n",
    "Even though the demand for both poured concrete & cinder block are similar, the cost for poured concrete is much higher \n",
    "than cinder block.<br>\n",
    "*13. BsmtQual*<br>\n",
    "Demand for Typical and Good are similar but typical is the most expensive.<br>\n",
    "*14. BsmtExposure*<br>\n",
    "Properties with no basement exposure have the least cost.<br>\n",
    "*15. BsmtFinType1*<br>\n",
    "Unfinished has the highest demand and its cost is also less but the cost is spread more than the other types except for \n",
    "Good living quarters which has the highest cost and similar demand to Unfinished type.\n",
    "*16. HeatingQC*<br>\n",
    "Demand for typical is highest, however there is no discernable sales price difference between the various categories.<br>\n",
    "*17. KitchenQual*<br>\n",
    "Typical type have the highest demand and the least sales price, followed by Good type which has decent demand but higher \n",
    "sales price in comparision to Typical type.<br>\n",
    "*18. GarageType*<br>\n",
    "Attached type has highest demand but the sales price is much lower than the type with Others. <br>\n",
    "*19. GarageFinish*<br>\n",
    "Unfinished has the highest demand but the least sales price, while Finished has the least demand with the highest sales price."
   ]
  },
  {
   "cell_type": "markdown",
   "id": "30ca15ae",
   "metadata": {},
   "source": [
    "**5. Plotting the dependent sales price feature**"
   ]
  },
  {
   "cell_type": "code",
   "execution_count": null,
   "id": "382905bd",
   "metadata": {},
   "outputs": [],
   "source": [
    "plt.figure(figsize=(5,5))\n",
    "sns.distplot(np.log(inp2['SalePrice']), bins=20)\n",
    "plt.title('Normal distribution plot of the sales price',fontdict={'fontsize':12,'fontweight':10,'color':'Green'})\n",
    "plt.show()"
   ]
  },
  {
   "cell_type": "markdown",
   "id": "3938bdf5",
   "metadata": {},
   "source": [
    "**Observation**<br>\n",
    "1. The sale price distribution plot is similar to normal distribution with noise affecting the data.<br>\n",
    "2. The dependent feature SalePrice is linearly dependent on many independent features as noted above in EDA. Therefore, this\n",
    "is a suitable case for multiple linear regression."
   ]
  },
  {
   "cell_type": "code",
   "execution_count": null,
   "id": "cec2f6f9",
   "metadata": {},
   "outputs": [],
   "source": [
    "#drop duplictes? \n",
    "#create bins?\n",
    "#plot pivot tables - relationship b/w categorical variables."
   ]
  },
  {
   "cell_type": "markdown",
   "id": "012ff225",
   "metadata": {},
   "source": [
    "### IV. Data Preparation"
   ]
  },
  {
   "cell_type": "markdown",
   "id": "f3ceaa66",
   "metadata": {},
   "source": [
    "**1. Create dummy variables for categorical values**"
   ]
  },
  {
   "cell_type": "code",
   "execution_count": null,
   "id": "be33ba32",
   "metadata": {},
   "outputs": [],
   "source": [
    "#copy into a new dataset\n",
    "inp3 = inp2.copy()\n",
    "\n",
    "#create variables\n",
    "inp3_dummies = pd.get_dummies(inp3.select_dtypes(include='object'), drop_first=True)\n",
    "\n",
    "#check if dummies are created correctly\n",
    "inp3_dummies.head()"
   ]
  },
  {
   "cell_type": "code",
   "execution_count": null,
   "id": "4f25c29f",
   "metadata": {},
   "outputs": [],
   "source": [
    "#drop the categorical columns\n",
    "inp3.drop(list(inp3.select_dtypes(include='object').columns),axis=1,inplace=True)\n",
    "\n",
    "#add the dummies columns to the dataset\n",
    "inp3 = pd.concat([inp3, inp3_dummies], axis=1)\n",
    "\n",
    "#final shape of the dataset\n",
    "inp3.shape"
   ]
  },
  {
   "cell_type": "code",
   "execution_count": null,
   "id": "7fdbb301",
   "metadata": {},
   "outputs": [],
   "source": [
    "#list of columns in the dataset\n",
    "print(list(inp3.columns))"
   ]
  },
  {
   "cell_type": "markdown",
   "id": "83e20a64",
   "metadata": {},
   "source": [
    "**2. Divide dataset into train & test datasets**"
   ]
  },
  {
   "cell_type": "code",
   "execution_count": null,
   "id": "62adc303",
   "metadata": {},
   "outputs": [],
   "source": [
    "# #divide dataset into train & test datasets in 70:30 ratio\n",
    "np.random.seed(0)\n",
    "inp3_train, inp3_test = train_test_split(inp3, train_size = 0.7, test_size = 0.3, random_state = 100)\n",
    "print('Train dataset size =',inp3_train.shape)\n",
    "print('Test dataset size =',inp3_test.shape)"
   ]
  },
  {
   "cell_type": "markdown",
   "id": "7f17e506",
   "metadata": {},
   "source": [
    "**3. Perform scaling of continuous variables**<br>\n",
    "Using Standard scaler to normalize the dtaa as much as possible for regularization."
   ]
  },
  {
   "cell_type": "code",
   "execution_count": null,
   "id": "7258b95b",
   "metadata": {},
   "outputs": [],
   "source": [
    "scaler = StandardScaler()\n",
    "num_vars = [i for i in inp3.select_dtypes(exclude='object').columns]\n",
    "inp3_train[num_vars] = scaler.fit_transform(inp3_train[num_vars])\n",
    "inp3_train.head()"
   ]
  },
  {
   "cell_type": "markdown",
   "id": "e5cc1c86",
   "metadata": {},
   "source": [
    "**4. Divide dataset features into dependent & independent variables**"
   ]
  },
  {
   "cell_type": "code",
   "execution_count": null,
   "id": "b0a6e3d1",
   "metadata": {},
   "outputs": [],
   "source": [
    "#depedent variable = SalePrice\n",
    "#indepdent variable = rest of features\n",
    "\n",
    "y_train = inp3_train.pop('SalePrice')\n",
    "X_train = inp3_train"
   ]
  },
  {
   "cell_type": "markdown",
   "id": "d0ab9005",
   "metadata": {},
   "source": [
    "### V. Model Building"
   ]
  },
  {
   "cell_type": "markdown",
   "id": "7c540957",
   "metadata": {},
   "source": [
    "**1. Multiple Linear Regression using Cross Validation using with/without VIF**"
   ]
  },
  {
   "cell_type": "markdown",
   "id": "aa6352fd",
   "metadata": {},
   "source": [
    "**1.1 Find the optimal value for hyper-parameter without VIF**"
   ]
  },
  {
   "cell_type": "code",
   "execution_count": null,
   "id": "33365fe3",
   "metadata": {},
   "outputs": [],
   "source": [
    "#create a cross-validation scheme\n",
    "folds = KFold(n_splits = 5, shuffle = True, random_state = 100)\n",
    "\n",
    "# specify range of hyperparameters to tune\n",
    "hyper_params = [{'n_features_to_select': list(range(1, 65))}]\n",
    "\n",
    "#begin MLR\n",
    "lm = LinearRegression()\n",
    "lm.fit(X_train, y_train)\n",
    "\n",
    "rfe = RFE(lm)             \n",
    "\n",
    "# call GridSearchCV() to maximise hyper parameter\n",
    "model_cv = GridSearchCV(estimator = rfe, \n",
    "                        param_grid = hyper_params, \n",
    "                        scoring= 'r2', \n",
    "                        cv = folds, \n",
    "                        verbose = 1,\n",
    "                        return_train_score=True)      \n",
    "\n",
    "# fit the model\n",
    "model_cv.fit(X_train, y_train)     "
   ]
  },
  {
   "cell_type": "code",
   "execution_count": null,
   "id": "ed706f89",
   "metadata": {},
   "outputs": [],
   "source": [
    "print(model_cv.best_params_)"
   ]
  },
  {
   "cell_type": "code",
   "execution_count": null,
   "id": "8a50656f",
   "metadata": {},
   "outputs": [],
   "source": [
    "# cv results to see the ranks of each hyper parameter\n",
    "cv_results = pd.DataFrame(model_cv.cv_results_)\n",
    "cv_results"
   ]
  },
  {
   "cell_type": "code",
   "execution_count": null,
   "id": "5b63c471",
   "metadata": {},
   "outputs": [],
   "source": [
    "#plot results for different alphas\n",
    "plt.figure(figsize=(15,4))\n",
    "plt.plot(cv_results['param_n_features_to_select'], cv_results['mean_train_score'])\n",
    "plt.plot(cv_results['param_n_features_to_select'], cv_results['mean_test_score'])\n",
    "plt.xlabel('Number of features')\n",
    "plt.ylabel('R2')\n",
    "plt.title(\"Optimal search for hyper-parameters based on R2 for RFE\")\n",
    "plt.legend(['train score', 'test score'], loc='upper left')\n",
    "plt.show()"
   ]
  },
  {
   "cell_type": "code",
   "execution_count": null,
   "id": "69e1e8ba",
   "metadata": {},
   "outputs": [],
   "source": [
    "#pass hyper parameter directly from cv to final model\n",
    "list(model_cv.best_params_.values())[0]"
   ]
  },
  {
   "cell_type": "markdown",
   "id": "911e5e91",
   "metadata": {},
   "source": [
    "**1.2 Build the final MLR model without VIF**"
   ]
  },
  {
   "cell_type": "code",
   "execution_count": null,
   "id": "43897a76",
   "metadata": {},
   "outputs": [],
   "source": [
    "# plugging in optimal RFE to find relevant features\n",
    "lm = LinearRegression()\n",
    "lm.fit(X_train, y_train)\n",
    "\n",
    "#RFE\n",
    "rfe = RFE(lm, n_features_to_select=list(model_cv.best_params_.values())[0])             \n",
    "rfe = rfe.fit(X_train, y_train)\n",
    "list(zip(X_train.columns,rfe.support_,rfe.ranking_))"
   ]
  },
  {
   "cell_type": "code",
   "execution_count": null,
   "id": "ebb535fd",
   "metadata": {},
   "outputs": [],
   "source": [
    "col_drop=[]\n",
    "col_drop = X_train.columns[~rfe.support_]\n",
    "X_train.drop(col_drop, axis=1, inplace=True)\n",
    "X_train.shape"
   ]
  },
  {
   "cell_type": "code",
   "execution_count": null,
   "id": "507e8881",
   "metadata": {},
   "outputs": [],
   "source": [
    "#final MLR model\n",
    "lm = LinearRegression()\n",
    "lm.fit(X_train, y_train)\n",
    "\n",
    "#intercept, coefficient\n",
    "print(lm.intercept_)\n",
    "print(lm.coef_)"
   ]
  },
  {
   "cell_type": "code",
   "execution_count": null,
   "id": "eb37c59d",
   "metadata": {},
   "outputs": [],
   "source": [
    "#build final table with constants & all coefficients\n",
    "model = pd.DataFrame()\n",
    "y_list = []\n",
    "y_list = [lm.intercept_]\n",
    "y_list.extend(lm.coef_)\n",
    "model['MLR'] = y_list"
   ]
  },
  {
   "cell_type": "markdown",
   "id": "52b05b13",
   "metadata": {},
   "source": [
    "**1.3 Predict both the train and test datasets using the MLR model without VIF**"
   ]
  },
  {
   "cell_type": "code",
   "execution_count": null,
   "id": "3ae8bc39",
   "metadata": {},
   "outputs": [],
   "source": [
    "#scale numerical features of the test dataset\n",
    "inp3_test[num_vars] = scaler.fit_transform(inp3_test[num_vars])\n",
    "\n",
    "#split into y and X\n",
    "y_test = inp3_test.pop('SalePrice')\n",
    "X_test= inp3_test\n",
    "X_test.drop(col_drop, axis=1, inplace=True)\n",
    "\n",
    "# predict \n",
    "y_train_pred = lm.predict(X_train)\n",
    "y_test_pred = lm.predict(X_test)"
   ]
  },
  {
   "cell_type": "markdown",
   "id": "09095a12",
   "metadata": {},
   "source": [
    "**1.4 Check the assumptions of Linear Regression**"
   ]
  },
  {
   "cell_type": "markdown",
   "id": "e05452dd",
   "metadata": {},
   "source": [
    "**1.4.1 Check whether error terms are normally distributed**"
   ]
  },
  {
   "cell_type": "code",
   "execution_count": null,
   "id": "1262bda1",
   "metadata": {},
   "outputs": [],
   "source": [
    "#normality check of residuals\n",
    "# Plot the histogram of the error terms to confirm linear regression rules\n",
    "plt.figure(figsize=(6,3))\n",
    "sns.distplot((y_train - y_train_pred), bins = 20)\n",
    "plt.title('Error Terms' , fontdict={'fontsize':12,'fontweight':10,'color':'Red'} )                \n",
    "plt.xlabel('Errors')  \n",
    "plt.show()"
   ]
  },
  {
   "cell_type": "markdown",
   "id": "ee3f5011",
   "metadata": {},
   "source": [
    "**Observation**<br>\n",
    "1. Error terms are normally distributed.<br>\n",
    "2. Mean of the error terms are hovering around 0.<br>\n",
    "3. Requirements for linear regression for errors terms of the expected model are met."
   ]
  },
  {
   "cell_type": "markdown",
   "id": "9498408d",
   "metadata": {},
   "source": [
    "**1.4.2 Patterns in the residuals wrt fitted feature count**"
   ]
  },
  {
   "cell_type": "code",
   "execution_count": null,
   "id": "a208f395",
   "metadata": {},
   "outputs": [],
   "source": [
    "# Patterns in the residuals wrt fitted feature count\n",
    "plt.figure(figsize=(8,3))\n",
    "plt.title('Residual error pattern wrt predicted values from model',fontdict={'fontsize':12,'fontweight':5,'color':'Green'})\n",
    "sns.scatterplot(x=y_train_pred, y=(y_train-y_train_pred), color='Green')\n",
    "plt.xlabel('Predicted values')\n",
    "plt.ylabel('Residuals')\n",
    "plt.show()"
   ]
  },
  {
   "cell_type": "markdown",
   "id": "3d62dbbc",
   "metadata": {},
   "source": [
    "**Observation**<br>\n",
    "There is no visible pattern when plotting the residuals(errors) against the predicted values(total predicted demand) from \n",
    "the train dataset."
   ]
  },
  {
   "cell_type": "markdown",
   "id": "93c202be",
   "metadata": {},
   "source": [
    "**1.4.3 Error terms have constants variance (homoscedastiticy)**"
   ]
  },
  {
   "cell_type": "code",
   "execution_count": null,
   "id": "b302ec02",
   "metadata": {},
   "outputs": [],
   "source": [
    "plt.figure(figsize=(8,3))\n",
    "plt.title('Homoscedasticity',fontdict={'fontsize':12,'fontweight':5,'color':'Green'})\n",
    "sns.regplot(x=y_train, y=y_train_pred, color='Orange')\n",
    "plt.xlabel('Demand')\n",
    "plt.ylabel('Predicted data')\n",
    "plt.show()"
   ]
  },
  {
   "cell_type": "markdown",
   "id": "48d77a5f",
   "metadata": {},
   "source": [
    "**Observation**<br>\n",
    "Residuals(errors) from the final model has homoscedasticity properties. Therefore all the assumptions regarding Linear regression for this model have been satisfied.<br>\n",
    "Also, this also proves that polynomial regression or data transformation is not required."
   ]
  },
  {
   "cell_type": "markdown",
   "id": "ad55eccd",
   "metadata": {},
   "source": [
    "**1.5 Plot of actual & predicted values of training data set**"
   ]
  },
  {
   "cell_type": "code",
   "execution_count": null,
   "id": "d2a099c6",
   "metadata": {},
   "outputs": [],
   "source": [
    "#Actual vs Predicted\n",
    "c = [i for i in range(0,len(X_train),1)]\n",
    "plt.figure(figsize=(15,3))\n",
    "plt.plot(c,y_train, color=\"blue\", linewidth=2.5, linestyle=\"-\") #actual values\n",
    "plt.plot(c,y_train_pred, color=\"green\",  linewidth=2.5, linestyle=\"-\") #predicted values\n",
    "plt.title('Actual and Predicted values on training dataset' ,\n",
    "            fontdict={'fontsize':12,'fontweight':5,'color':'Green'})      \n",
    "plt.xlabel('Index')                               \n",
    "plt.ylabel('Predicted')    \n",
    "plt.show()"
   ]
  },
  {
   "cell_type": "markdown",
   "id": "4331e90d",
   "metadata": {},
   "source": [
    "**Observation**<br>\n",
    "Actual & predicated values are almost similar."
   ]
  },
  {
   "cell_type": "markdown",
   "id": "f03aada9",
   "metadata": {},
   "source": [
    "**1.4 Find optimal value of hyper-parameter for MLR model with VIF**"
   ]
  },
  {
   "cell_type": "code",
   "execution_count": null,
   "id": "a98bdb6a",
   "metadata": {},
   "outputs": [],
   "source": [
    "#calculate VIF to compare across all models\n",
    "vif = pd.DataFrame()\n",
    "X = X_train\n",
    "vif['Features'] = X_train.columns\n",
    "vif['VIF'] = [variance_inflation_factor(X.values, i) for i in range(X.shape[1])]\n",
    "vif['VIF'] = round(vif['VIF'], 2)\n",
    "vif = vif.sort_values(by = \"VIF\", ascending = False)\n",
    "vif"
   ]
  },
  {
   "cell_type": "code",
   "execution_count": null,
   "id": "9074bec1",
   "metadata": {},
   "outputs": [],
   "source": [
    "X_train_vif = X_train.copy()\n",
    "\n",
    "#below values have high correlation with each other(independent features)\n",
    "#or are not closely related to the dependent variable\n",
    "#therefore drop them\n",
    "X_train_vif.drop(['Exterior1st_VinylSiding','FullBath', 'AgeRemodYr','TotRmsAbvGrd','GarageArea','AgeGarageYr',\n",
    "                  'BedroomAbvGr','HeatingQC_Others'],\n",
    "                 axis=1,inplace=True)"
   ]
  },
  {
   "cell_type": "code",
   "execution_count": null,
   "id": "ef78f430",
   "metadata": {},
   "outputs": [],
   "source": [
    "#confirm\n",
    "X_train_vif.shape"
   ]
  },
  {
   "cell_type": "code",
   "execution_count": null,
   "id": "de2dfa8b",
   "metadata": {},
   "outputs": [],
   "source": [
    "# create a cross-validation scheme\n",
    "folds = KFold(n_splits = 5, shuffle = True, random_state = 100)\n",
    "\n",
    "# specify range of hyperparameters to tune\n",
    "hyper_params = [{'n_features_to_select': list(range(1, 43))}]\n",
    "\n",
    "\n",
    "lm = LinearRegression()\n",
    "lm.fit(X_train_vif, y_train)\n",
    "\n",
    "rfe = RFE(lm)             \n",
    "\n",
    "# call GridSearchCV()\n",
    "model_cv = GridSearchCV(estimator = rfe, \n",
    "                        param_grid = hyper_params, \n",
    "                        scoring= 'r2', \n",
    "                        cv = folds, \n",
    "                        verbose = 1,\n",
    "                        return_train_score=True)      \n",
    "\n",
    "# fit the model\n",
    "model_cv.fit(X_train_vif, y_train)     \n",
    "print(model_cv.best_params_)"
   ]
  },
  {
   "cell_type": "code",
   "execution_count": null,
   "id": "f9f672c6",
   "metadata": {},
   "outputs": [],
   "source": [
    "#plot results for different alphas\n",
    "cv_results = pd.DataFrame(model_cv.cv_results_)\n",
    "plt.figure(figsize=(15,4))\n",
    "plt.plot(cv_results['param_n_features_to_select'], cv_results['mean_train_score'])\n",
    "plt.plot(cv_results['param_n_features_to_select'], cv_results['mean_test_score'])\n",
    "plt.xlabel('Number of features')\n",
    "plt.ylabel('R2')\n",
    "plt.title(\"Optimal search for hyper-parameters based on R2 for RFE\")\n",
    "plt.legend(['train score', 'test score'], loc='upper left')\n",
    "plt.show()"
   ]
  },
  {
   "cell_type": "markdown",
   "id": "2b91ce8f",
   "metadata": {},
   "source": [
    "**1.5 Build final MLR with VIF**"
   ]
  },
  {
   "cell_type": "code",
   "execution_count": null,
   "id": "7a96a91c",
   "metadata": {
    "scrolled": true
   },
   "outputs": [],
   "source": [
    "# final MLR model\n",
    "lm = LinearRegression()\n",
    "lm.fit(X_train_vif, y_train)\n",
    "\n",
    "rfe = RFE(lm, n_features_to_select=list(model_cv.best_params_.values())[0])             \n",
    "rfe = rfe.fit(X_train_vif, y_train)\n",
    "\n",
    "print(lm.intercept_)\n",
    "print(lm.coef_)"
   ]
  },
  {
   "cell_type": "markdown",
   "id": "c69487ac",
   "metadata": {},
   "source": [
    "**1.6 Predict train & test using final MLR with VIF**"
   ]
  },
  {
   "cell_type": "code",
   "execution_count": null,
   "id": "42de2441",
   "metadata": {},
   "outputs": [],
   "source": [
    "X_test_vif= inp3_test[X_train_vif.columns]\n",
    "\n",
    "# predict \n",
    "y_train_vif_pred = lm.predict(X_train_vif)\n",
    "y_test_vif_pred = lm.predict(X_test_vif)"
   ]
  },
  {
   "cell_type": "code",
   "execution_count": null,
   "id": "565eacf7",
   "metadata": {},
   "outputs": [],
   "source": [
    "#Actual vs Predicted\n",
    "c = [i for i in range(0,len(X_train),1)]\n",
    "plt.figure(figsize=(15,3))\n",
    "plt.plot(c,y_train, color=\"blue\", linewidth=2.5, linestyle=\"-\") #actual values\n",
    "plt.plot(c,y_train_pred, color=\"green\",  linewidth=2.5, linestyle=\"-\") #predicted values\n",
    "plt.title('Actual and Predicted Sales Price on train dataset' ,\n",
    "            fontdict={'fontsize':12,'fontweight':5,'color':'Green'})      \n",
    "plt.xlabel('Index')                               \n",
    "plt.ylabel('Predicted')    \n",
    "plt.show()"
   ]
  },
  {
   "cell_type": "markdown",
   "id": "42a7155b",
   "metadata": {},
   "source": [
    "**1.6 Calculation of statistic metrics** "
   ]
  },
  {
   "cell_type": "code",
   "execution_count": null,
   "id": "3c2e992d",
   "metadata": {},
   "outputs": [],
   "source": [
    "#create function call to be executed after each model execution\n",
    "def calc_metrics(model,a_actual,a_pred):\n",
    "    z_list=[]\n",
    "    z_list.append(str(model))\n",
    "    z_list.append(round(r2_score(a_actual, a_pred),4))\n",
    "    z_list.append(round(np.sum(np.square(a_actual - a_pred)),4))\n",
    "    z_list.append(round(mean_squared_error(a_actual, a_pred)**0.5,4))\n",
    "    z_list.append(round((1 - (1 - r2_score(a_actual, a_pred)) * ((X_train.shape[0] - 1) / \n",
    "                                                                 (X_train.shape[0] - X_train.shape[1] - 1))),4))\n",
    "    return z_list"
   ]
  },
  {
   "cell_type": "code",
   "execution_count": null,
   "id": "9943f1e1",
   "metadata": {},
   "outputs": [],
   "source": [
    "metric=[]\n",
    "metric.append(calc_metrics('MLR[Train]',y_train,y_train_pred))\n",
    "metric.append(calc_metrics('MLR[Test]',y_test,y_test_pred))\n",
    "metric.append(calc_metrics('MLR-VIF[Train]',y_train,y_train_vif_pred))\n",
    "metric.append(calc_metrics('MLR-VIF[Test]',y_test,y_test_vif_pred))"
   ]
  },
  {
   "cell_type": "code",
   "execution_count": null,
   "id": "dc9f84ad",
   "metadata": {},
   "outputs": [],
   "source": [
    "#build final table with constants & all coefficients\n",
    "model_vif=pd.DataFrame()\n",
    "y_list = []\n",
    "y_list = [lm.intercept_]\n",
    "y_list.extend(lm.coef_)\n",
    "model_vif['MLR'] = y_list"
   ]
  },
  {
   "cell_type": "markdown",
   "id": "86ec4a69",
   "metadata": {},
   "source": [
    "**2. Ridge Regularization with/without VIF**<br>\n",
    "Let us see if applying Ridge regularization to check if the statistics metrics improve."
   ]
  },
  {
   "cell_type": "markdown",
   "id": "1852f9e1",
   "metadata": {},
   "source": [
    "**2.1 Find the optimal value for hyper-parameter for model without VIF**"
   ]
  },
  {
   "cell_type": "code",
   "execution_count": null,
   "id": "e95624be",
   "metadata": {},
   "outputs": [],
   "source": [
    "# list of alphas to tune - if value too high it will lead to underfitting, if it is too low, \n",
    "# # it will not handle the overfitting\n",
    "params = {'alpha': [0.0001, 0.001, 0.01, 0.05, 0.1, 0.2, 0.3, 0.4, 0.5, 0.6, 0.7, 0.8, 0.9, 1.0, 2.0, 3.0, \n",
    "                    4.0, 5.0, 6.0, 7.0, 8.0, 9.0, 10.0, 20, 50, 100, 500, 1000 ]}\n",
    "\n",
    "ridge = Ridge()\n",
    "\n",
    "# cross validation\n",
    "folds = 5\n",
    "model_cv = GridSearchCV(estimator = ridge, \n",
    "                        param_grid = params, \n",
    "                        scoring= 'neg_mean_absolute_error',  \n",
    "                        cv = folds, \n",
    "                        return_train_score=True,\n",
    "                        verbose = 1)            \n",
    "model_cv.fit(X_train, y_train) "
   ]
  },
  {
   "cell_type": "code",
   "execution_count": null,
   "id": "44a37cd7",
   "metadata": {},
   "outputs": [],
   "source": [
    "# Printing the best hyperparameter alpha\n",
    "print(model_cv.best_params_)"
   ]
  },
  {
   "cell_type": "code",
   "execution_count": null,
   "id": "02ade6b8",
   "metadata": {},
   "outputs": [],
   "source": [
    "#plot results for different alphas\n",
    "cv_results = pd.DataFrame(model_cv.cv_results_)\n",
    "plt.figure(figsize=(15,4))\n",
    "plt.plot(cv_results['param_alpha'], cv_results['mean_train_score'])\n",
    "plt.plot(cv_results['param_alpha'], cv_results['mean_test_score'])\n",
    "plt.xlabel('Hyper-parameter')\n",
    "plt.ylabel('Neg Mean Abs Error')\n",
    "plt.title(\"Optimal search for hyper-parameters\")\n",
    "plt.legend(['train score', 'test score'], loc='upper left')\n",
    "plt.show()"
   ]
  },
  {
   "cell_type": "markdown",
   "id": "ac7449db",
   "metadata": {},
   "source": [
    "**2.2 Build final Ridge model using optimal alpha without VIF & predict**"
   ]
  },
  {
   "cell_type": "code",
   "execution_count": null,
   "id": "39e08293",
   "metadata": {},
   "outputs": [],
   "source": [
    "#Fitting Ridge model for alpha = 10 and printing coefficients which have been penalised\n",
    "ridge = Ridge(alpha=list(model_cv.best_params_.values())[0])\n",
    "\n",
    "ridge.fit(X_train, y_train)\n",
    "print(ridge.intercept_)\n",
    "print(ridge.coef_)"
   ]
  },
  {
   "cell_type": "code",
   "execution_count": null,
   "id": "ba5223df",
   "metadata": {},
   "outputs": [],
   "source": [
    "#predict\n",
    "y_train_pred = ridge.predict(X_train)\n",
    "y_test_pred = ridge.predict(X_test)"
   ]
  },
  {
   "cell_type": "code",
   "execution_count": null,
   "id": "9184f895",
   "metadata": {},
   "outputs": [],
   "source": [
    "#build final table with constants & all coefficients\n",
    "y_list = []\n",
    "y_list = [ridge.intercept_]\n",
    "y_list.extend(ridge.coef_)\n",
    "model['Ridge'] = y_list"
   ]
  },
  {
   "cell_type": "code",
   "execution_count": null,
   "id": "dc09720f",
   "metadata": {},
   "outputs": [],
   "source": [
    "#Actual vs Predicted\n",
    "c = [i for i in range(0,len(X_test),1)]\n",
    "plt.figure(figsize=(15,3))\n",
    "plt.plot(c,y_test, color=\"blue\", linewidth=2.5, linestyle=\"-\") #actual values\n",
    "plt.plot(c,y_test_pred, color=\"green\",  linewidth=2.5, linestyle=\"-\") #predicted values\n",
    "plt.title('Actual and Predicted Sales Price on test dataset' ,\n",
    "            fontdict={'fontsize':12,'fontweight':5,'color':'Green'})      \n",
    "plt.xlabel('Index')                               \n",
    "plt.ylabel('Predicted')    \n",
    "plt.show()"
   ]
  },
  {
   "cell_type": "markdown",
   "id": "71ba940b",
   "metadata": {},
   "source": [
    "**2.3 Find optimal value for hyper parameter using VIF**"
   ]
  },
  {
   "cell_type": "code",
   "execution_count": null,
   "id": "4524c8da",
   "metadata": {},
   "outputs": [],
   "source": [
    "ridge = Ridge()\n",
    "\n",
    "# cross validation\n",
    "folds = 5\n",
    "model_cv = GridSearchCV(estimator = ridge, \n",
    "                        param_grid = params, \n",
    "                        scoring= 'neg_mean_absolute_error',  \n",
    "                        cv = folds, \n",
    "                        return_train_score=True,\n",
    "                        verbose = 1)            \n",
    "model_cv.fit(X_train_vif, y_train) "
   ]
  },
  {
   "cell_type": "code",
   "execution_count": null,
   "id": "5c2c09e7",
   "metadata": {},
   "outputs": [],
   "source": [
    "# Printing the best hyperparameter alpha\n",
    "print(model_cv.best_params_)"
   ]
  },
  {
   "cell_type": "code",
   "execution_count": null,
   "id": "dae78e61",
   "metadata": {},
   "outputs": [],
   "source": [
    "cv_results = pd.DataFrame(model_cv.cv_results_)\n",
    "plt.figure(figsize=(15,4))\n",
    "plt.plot(cv_results['param_alpha'], cv_results['mean_train_score'])\n",
    "plt.plot(cv_results['param_alpha'], cv_results['mean_test_score'])\n",
    "plt.xlabel('Hyper-parameter')\n",
    "plt.ylabel('Neg Mean Abs Error')\n",
    "plt.title(\"Optimal search for hyper-parameters\")\n",
    "plt.legend(['train score', 'test score'], loc='upper left')\n",
    "plt.show()"
   ]
  },
  {
   "cell_type": "markdown",
   "id": "3a5dc2c7",
   "metadata": {},
   "source": [
    "**2.4 Build final model with VIF**"
   ]
  },
  {
   "cell_type": "code",
   "execution_count": null,
   "id": "da7e72e6",
   "metadata": {},
   "outputs": [],
   "source": [
    "#Fitting Ridge model for alpha = 10 and printing coefficients which have been penalised\n",
    "ridge = Ridge(alpha=list(model_cv.best_params_.values())[0])\n",
    "\n",
    "ridge.fit(X_train_vif, y_train)\n",
    "print(ridge.intercept_)\n",
    "print(ridge.coef_)"
   ]
  },
  {
   "cell_type": "markdown",
   "id": "f44d3d39",
   "metadata": {},
   "source": [
    "**2.5 Predict using final model without VIF & calculate metrics**"
   ]
  },
  {
   "cell_type": "code",
   "execution_count": null,
   "id": "2cbd621f",
   "metadata": {},
   "outputs": [],
   "source": [
    "# # Lets calculate some metrics such as R2 score, RSS and RMSE\n",
    "y_train_vif_pred = ridge.predict(X_train_vif)\n",
    "y_test_vif_pred = ridge.predict(X_test_vif)\n",
    "\n",
    "metric.append(calc_metrics('Ridge[Train]',y_train,y_train_pred))\n",
    "metric.append(calc_metrics('Ridge[Test]',y_test,y_test_pred))\n",
    "metric.append(calc_metrics('Ridge-VIF[Train]',y_train,y_train_vif_pred))\n",
    "metric.append(calc_metrics('Ridge-VIF[Test]',y_test,y_test_vif_pred))"
   ]
  },
  {
   "cell_type": "code",
   "execution_count": null,
   "id": "e4d885f8",
   "metadata": {},
   "outputs": [],
   "source": [
    "#build final table with constants & all coefficients\n",
    "y_list = []\n",
    "y_list = [ridge.intercept_]\n",
    "y_list.extend(ridge.coef_)\n",
    "model_vif['Ridge'] = y_list"
   ]
  },
  {
   "cell_type": "markdown",
   "id": "5318dbd9",
   "metadata": {},
   "source": [
    "**3. Lasso Regularization with/without VIF**"
   ]
  },
  {
   "cell_type": "markdown",
   "id": "93775dd0",
   "metadata": {},
   "source": [
    "**3.1 Find optimal value of hyper-parameter without using VIF**"
   ]
  },
  {
   "cell_type": "code",
   "execution_count": null,
   "id": "e4b406ae",
   "metadata": {},
   "outputs": [],
   "source": [
    "lasso = Lasso()\n",
    "\n",
    "# cross validation\n",
    "model_cv = GridSearchCV(estimator = lasso, \n",
    "                        param_grid = params, \n",
    "                        scoring= 'neg_mean_absolute_error', \n",
    "                        cv = folds, \n",
    "                        return_train_score=True,\n",
    "                        verbose = 1)            \n",
    "\n",
    "model_cv.fit(X_train, y_train) "
   ]
  },
  {
   "cell_type": "code",
   "execution_count": null,
   "id": "f92debd3",
   "metadata": {},
   "outputs": [],
   "source": [
    "# Printing the best hyperparameter alpha\n",
    "print(model_cv.best_params_)"
   ]
  },
  {
   "cell_type": "code",
   "execution_count": null,
   "id": "78b63d61",
   "metadata": {},
   "outputs": [],
   "source": [
    "cv_results = pd.DataFrame(model_cv.cv_results_)\n",
    "plt.figure(figsize=(15,4))\n",
    "plt.plot(cv_results['param_alpha'], cv_results['mean_train_score'])\n",
    "plt.plot(cv_results['param_alpha'], cv_results['mean_test_score'])\n",
    "plt.xlabel('Hyper-parameter')\n",
    "plt.ylabel('Neg Mean Abs Error')\n",
    "plt.title(\"Optimal search for hyper-parameters\")\n",
    "plt.legend(['train score', 'test score'], loc='upper left')\n",
    "plt.show()"
   ]
  },
  {
   "cell_type": "markdown",
   "id": "14af5d15",
   "metadata": {},
   "source": [
    "**3.2 Build final model with VIF & predict**"
   ]
  },
  {
   "cell_type": "code",
   "execution_count": null,
   "id": "e4e49720",
   "metadata": {},
   "outputs": [],
   "source": [
    "#Fitting Ridge model for alpha = 100 and printing coefficients which have been penalised\n",
    "lasso = Lasso(alpha=list(model_cv.best_params_.values())[0])\n",
    "        \n",
    "lasso.fit(X_train, y_train) "
   ]
  },
  {
   "cell_type": "code",
   "execution_count": null,
   "id": "21a07101",
   "metadata": {},
   "outputs": [],
   "source": [
    "print(lasso.intercept_)\n",
    "print(lasso.coef_)"
   ]
  },
  {
   "cell_type": "code",
   "execution_count": null,
   "id": "fb6d8d71",
   "metadata": {},
   "outputs": [],
   "source": [
    "#predict\n",
    "y_train_pred = lasso.predict(X_train)\n",
    "y_test_pred = lasso.predict(X_test)"
   ]
  },
  {
   "cell_type": "code",
   "execution_count": null,
   "id": "a7586030",
   "metadata": {},
   "outputs": [],
   "source": [
    "#Actual vs Predicted\n",
    "c = [i for i in range(0,len(X_train),1)]\n",
    "plt.figure(figsize=(15,3))\n",
    "plt.plot(c,y_train, color=\"blue\", linewidth=2.5, linestyle=\"-\") #actual values\n",
    "plt.plot(c,y_train_pred, color=\"green\",  linewidth=2.5, linestyle=\"-\") #predicted values\n",
    "plt.title('Actual and Predicted Sales Price on train dataset' ,\n",
    "            fontdict={'fontsize':12,'fontweight':5,'color':'Green'})      \n",
    "plt.xlabel('Index')                               \n",
    "plt.ylabel('Predicted')    \n",
    "plt.show()"
   ]
  },
  {
   "cell_type": "code",
   "execution_count": null,
   "id": "3784c410",
   "metadata": {},
   "outputs": [],
   "source": [
    "#Actual vs Predicted\n",
    "c = [i for i in range(0,len(X_test),1)]\n",
    "plt.figure(figsize=(15,3))\n",
    "plt.plot(c,y_test, color=\"blue\", linewidth=2.5, linestyle=\"-\") #actual values\n",
    "plt.plot(c,y_test_pred, color=\"green\",  linewidth=2.5, linestyle=\"-\") #predicted values\n",
    "plt.title('Actual and Predicted Sales Price on test dataset' ,\n",
    "            fontdict={'fontsize':12,'fontweight':5,'color':'Green'})      \n",
    "plt.xlabel('Index')                               \n",
    "plt.ylabel('Predicted')    \n",
    "plt.show()"
   ]
  },
  {
   "cell_type": "code",
   "execution_count": null,
   "id": "ed07a64d",
   "metadata": {},
   "outputs": [],
   "source": [
    "#build final table with constants & all coefficients\n",
    "y_list = []\n",
    "y_list = [lasso.intercept_]\n",
    "y_list.extend(lasso.coef_)\n",
    "model['Lasso'] = y_list"
   ]
  },
  {
   "cell_type": "markdown",
   "id": "bde65676",
   "metadata": {},
   "source": [
    "**3.3 Find optimal value for hyper parameter using VIF**"
   ]
  },
  {
   "cell_type": "code",
   "execution_count": null,
   "id": "210f050f",
   "metadata": {},
   "outputs": [],
   "source": [
    "lasso = Lasso()\n",
    "\n",
    "# cross validation\n",
    "model_cv = GridSearchCV(estimator = lasso, \n",
    "                        param_grid = params, \n",
    "                        scoring= 'neg_mean_absolute_error', \n",
    "                        cv = folds, \n",
    "                        return_train_score=True,\n",
    "                        verbose = 1)            \n",
    "\n",
    "model_cv.fit(X_train_vif, y_train) "
   ]
  },
  {
   "cell_type": "code",
   "execution_count": null,
   "id": "56c6e6cc",
   "metadata": {},
   "outputs": [],
   "source": [
    "# Printing the best hyperparameter alpha\n",
    "print(model_cv.best_params_)"
   ]
  },
  {
   "cell_type": "markdown",
   "id": "5f73e663",
   "metadata": {},
   "source": [
    "**3.4 Build final model using VIF**"
   ]
  },
  {
   "cell_type": "code",
   "execution_count": null,
   "id": "83c18019",
   "metadata": {},
   "outputs": [],
   "source": [
    "#Fitting Ridge model for alpha = 100 and printing coefficients which have been penalised\n",
    "lasso = Lasso(alpha=list(model_cv.best_params_.values())[0])\n",
    "        \n",
    "lasso.fit(X_train_vif, y_train) "
   ]
  },
  {
   "cell_type": "markdown",
   "id": "93bf1770",
   "metadata": {},
   "source": [
    "**3.5 Predict using final model without VIF & calculate metrics**"
   ]
  },
  {
   "cell_type": "code",
   "execution_count": null,
   "id": "910c54e1",
   "metadata": {},
   "outputs": [],
   "source": [
    "y_train_vif_pred = lasso.predict(X_train_vif)\n",
    "y_test_vif_pred = lasso.predict(X_test_vif)\n",
    "\n",
    "metric.append(calc_metrics('Lasso[Train]',y_train,y_train_pred))\n",
    "metric.append(calc_metrics('Lasso[Test]',y_test,y_test_pred))\n",
    "metric.append(calc_metrics('Lasso-VIF[Train]',y_train,y_train_vif_pred))\n",
    "metric.append(calc_metrics('Lasso-VIF[Test]',y_test,y_test_vif_pred))"
   ]
  },
  {
   "cell_type": "code",
   "execution_count": null,
   "id": "59c80a8d",
   "metadata": {},
   "outputs": [],
   "source": [
    "#build final table with constants & all coefficients\n",
    "y_list = []\n",
    "y_list = [lasso.intercept_]\n",
    "y_list.extend(lasso.coef_)\n",
    "model_vif['Lasso'] = y_list"
   ]
  },
  {
   "cell_type": "markdown",
   "id": "409e3f94",
   "metadata": {},
   "source": [
    "**4. Comparison of metrics & coefficents between MLR, Ridge & Lasso**"
   ]
  },
  {
   "cell_type": "markdown",
   "id": "50d38f58",
   "metadata": {},
   "source": [
    "**4.1 Metric comparison across models with & without VIF**"
   ]
  },
  {
   "cell_type": "code",
   "execution_count": null,
   "id": "b070d618",
   "metadata": {},
   "outputs": [],
   "source": [
    "#print the metrics comparison\n",
    "metric_df = pd.DataFrame(metric,columns=['Model','R2','RSS','RMSE','Adj_R2'])\n",
    "metric_df"
   ]
  },
  {
   "cell_type": "markdown",
   "id": "78723178",
   "metadata": {},
   "source": [
    "**4.2 Model coefficients comparison between models without VIF**"
   ]
  },
  {
   "cell_type": "code",
   "execution_count": null,
   "id": "c1b057ca",
   "metadata": {},
   "outputs": [],
   "source": [
    "#get the variable and coeffiencts together\n",
    "betas = pd.DataFrame()\n",
    "y_list=[]\n",
    "y_list = ['const']\n",
    "y_list.extend(X_train.columns)\n",
    "betas['Features'] = y_list\n",
    "betas['Linear'] = model['MLR']\n",
    "betas['Ridge'] = model['Ridge']\n",
    "betas['Lasso'] = model['Lasso']\n",
    "pd.set_option('display.max_rows', None)\n",
    "betas"
   ]
  },
  {
   "cell_type": "markdown",
   "id": "ebbcdbb8",
   "metadata": {},
   "source": [
    "**4.3 Model coefficients comparison between models with VIF**"
   ]
  },
  {
   "cell_type": "code",
   "execution_count": null,
   "id": "a7c4fee4",
   "metadata": {},
   "outputs": [],
   "source": [
    "betas_vif = pd.DataFrame()\n",
    "y_list=[]\n",
    "y_list = ['const']\n",
    "y_list.extend(X_train_vif.columns)\n",
    "betas_vif['Features'] = y_list\n",
    "betas_vif['Linear'] = model_vif['MLR']\n",
    "betas_vif['Ridge'] = model_vif['Ridge']\n",
    "betas_vif['Lasso'] = model_vif['Lasso']\n",
    "pd.set_option('display.max_rows', None)\n",
    "betas_vif"
   ]
  },
  {
   "cell_type": "markdown",
   "id": "b0f035e0",
   "metadata": {},
   "source": [
    "**4.4 Find all the features whose coefficients are zero and are irrelevant for the final Lasso model**"
   ]
  },
  {
   "cell_type": "code",
   "execution_count": null,
   "id": "cbff8f3d",
   "metadata": {},
   "outputs": [],
   "source": [
    "#find the betas whose coefficients are zero for Lasso model\n",
    "betas[betas['Lasso'] == 0]"
   ]
  },
  {
   "cell_type": "markdown",
   "id": "cbd8a4de",
   "metadata": {},
   "source": [
    "**Observation**<br>\n",
    "1. Ignore data wrt VIF ie betas_vif table as there is slight difference when using VIF. Therefore, we focus on using on\n",
    "models created without VIF(betas table).<br>\n",
    "2. The hyper-parameter for ridge is optimal at a value of 20 and for lasso it is 0.01.<br>\n",
    "3. The best model is the Lasso with the highest R2 value of 87.3, least RSS and RMSE values of 52.7 and 0.35 and highest\n",
    "adjusted R2 of 86.6. On top of this, lasso also made the coefficents of 11 features(noted above) as 0 which reduced the \n",
    "complexity of the overall mode."
   ]
  },
  {
   "cell_type": "markdown",
   "id": "9bf9e091",
   "metadata": {},
   "source": [
    "**4.5 Equations of MLR, Ridge & Lasso models**"
   ]
  },
  {
   "cell_type": "markdown",
   "id": "4258ad5e",
   "metadata": {},
   "source": [
    "**4.5.1 Multiple Linear Regression equation**"
   ]
  },
  {
   "cell_type": "code",
   "execution_count": null,
   "id": "8461b77f",
   "metadata": {},
   "outputs": [],
   "source": [
    "#MLR\n",
    "y_list=[]\n",
    "y_list=betas.apply(lambda x : '('+str(round(x.Linear,4))+')'+'*'+x.Features if (x.Linear !=0 and round(x.Linear,4))>0\n",
    "                                else str(0) ,axis=1 )\n",
    "x_str = ''\n",
    "for i in range(len(y_list)):\n",
    "    if y_list[i] =='0':\n",
    "        continue\n",
    "    else:        \n",
    "        x_str = x_str + '+' + y_list[i]"
   ]
  },
  {
   "cell_type": "code",
   "execution_count": null,
   "id": "97da4795",
   "metadata": {},
   "outputs": [],
   "source": [
    "from IPython.display import Latex\n",
    "print('\\033[1m{:10s}\\033[0m'.format('Mutiple Linear Regression'))\n",
    "Latex(x_str.lstrip('+'))"
   ]
  },
  {
   "cell_type": "markdown",
   "id": "d3ce7271",
   "metadata": {},
   "source": [
    "**4.5.2 Ridge Regularization**"
   ]
  },
  {
   "cell_type": "code",
   "execution_count": null,
   "id": "62e02007",
   "metadata": {},
   "outputs": [],
   "source": [
    "#Ridge\n",
    "y_list=[]\n",
    "y_list=betas.apply(lambda x : '('+str(round(x.Ridge,4))+')'+'*'+x.Features if (x.Ridge !=0 and round(x.Ridge,4))>0\n",
    "                                else str(0) ,axis=1 )\n",
    "x_str = ''\n",
    "for i in range(len(y_list)):\n",
    "    if y_list[i] =='0':\n",
    "        continue\n",
    "    else:        \n",
    "        x_str = x_str + '+' + y_list[i]      \n",
    "\n",
    "print('\\033[1m{:10s}\\033[0m'.format('Ridge Regularization'))\n",
    "Latex(x_str.lstrip('+'))"
   ]
  },
  {
   "cell_type": "markdown",
   "id": "d3857f43",
   "metadata": {},
   "source": [
    "**4.5.3 Lasso Regularization**"
   ]
  },
  {
   "cell_type": "code",
   "execution_count": null,
   "id": "44a3ffde",
   "metadata": {},
   "outputs": [],
   "source": [
    "#Lasso\n",
    "y_list=[]\n",
    "y_list=betas.apply(lambda x : '('+str(round(x.Lasso,4))+')'+'*'+x.Features if (x.Lasso !=0 and round(x.Lasso,4))>0\n",
    "                                else str(0) ,axis=1 )\n",
    "x_str = ''\n",
    "for i in range(len(y_list)):\n",
    "    if y_list[i] =='0':\n",
    "        continue\n",
    "    else:        \n",
    "        x_str = x_str + '+' + y_list[i]      \n",
    "\n",
    "print('\\033[1m{:10s}\\033[0m'.format('Lasso Regularization'))\n",
    "Latex(x_str.lstrip('+'))"
   ]
  },
  {
   "cell_type": "markdown",
   "id": "b0e23be9",
   "metadata": {},
   "source": [
    "**Observation**<br>\n",
    "As can be observed, the Lasso regularization equation is much simplier both in terms of number of features and the value\n",
    "of the coefficients when compared to Ridge & MLR equations."
   ]
  },
  {
   "cell_type": "code",
   "execution_count": null,
   "id": "f9e13fd3",
   "metadata": {},
   "outputs": [],
   "source": []
  }
 ],
 "metadata": {
  "kernelspec": {
   "display_name": "Python 3 (ipykernel)",
   "language": "python",
   "name": "python3"
  },
  "language_info": {
   "codemirror_mode": {
    "name": "ipython",
    "version": 3
   },
   "file_extension": ".py",
   "mimetype": "text/x-python",
   "name": "python",
   "nbconvert_exporter": "python",
   "pygments_lexer": "ipython3",
   "version": "3.10.9"
  }
 },
 "nbformat": 4,
 "nbformat_minor": 5
}
